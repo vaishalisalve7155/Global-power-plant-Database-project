﻿{
 "cells": [
  {
   "cell_type": "markdown",
   "id": "3e417d8a",
   "metadata": {},
   "source": [
    "# Global Power Plant Database Project"
   ]
  },
  {
   "cell_type": "markdown",
   "id": "8d2a8ca5",
   "metadata": {},
   "source": [
    "# Description"
   ]
  },
  {
   "cell_type": "markdown",
   "id": "da0421f6",
   "metadata": {},
   "source": [
    "The Global Power Plant Database is a comprehensive, open source database of power plants around the world. It centralizes power plant data to make it easier to navigate, compare and draw insights for one’s own analysis. The database covers approximately 35,000 power plants from 167 countries and includes thermal plants (e.g. coal, gas, oil, nuclear, biomass, waste, geothermal) and renewables (e.g. hydro, wind, solar). Each power plant is geolocated and entries contain information on plant capacity, generation, ownership, and fuel type. It will be continuously updated as data becomes available."
   ]
  },
  {
   "cell_type": "markdown",
   "id": "a2f15803",
   "metadata": {},
   "source": [
    "# Key Attributes of the Database"
   ]
  },
  {
   "cell_type": "markdown",
   "id": "477336e7",
   "metadata": {},
   "source": [
    "The database includes the following indicators:-\n",
    "    \n",
    "    \n",
    "    \n",
    "    \n",
    "\n",
    "country` (text): 3 character country code corresponding to the ISO 3166-1 alpha-3 specification [5]\n",
    "\n",
    "country_long (text): longer form of the country designation\n",
    "\n",
    "name (text): name or title of the power plant, generally in Romanized form\n",
    "\n",
    "gppd_idnr (text): 10 or 12 character identifier for the power plant\n",
    "\n",
    "capacity_mw (number): electrical generating capacity in megawatts\n",
    "\n",
    "latitude (number): geolocation in decimal degrees; WGS84 (EPSG:4326)\n",
    "\n",
    "longitude (number): geolocation in decimal degrees; WGS84 (EPSG:4326)\n",
    "\n",
    "primary_fuel (text): energy source used in primary electricity generation or export\n",
    "\n",
    "other_fuel1 (text): energy source used in electricity generation or export\n",
    "\n",
    "other_fuel2 (text): energy source used in electricity generation or export\n",
    "\n",
    "other_fuel3 (text): energy source used in electricity generation or export\n",
    "\n",
    "commissioning_year (number): year of plant operation, weighted by unit-capacity when data is available\n",
    "\n",
    "owner (text): majority shareholder of the power plant, generally in Romanized form\n",
    "\n",
    "source (text): entity reporting the data; could be an organization, report, or document, generally in Romanized form\n",
    "\n",
    "url (text): web document corresponding to the source field\n",
    "\n",
    "geolocation_source (text): attribution for geolocation information\n",
    "\n",
    "wepp_id (text): a reference to a unique plant identifier in the widely-used PLATTS-WEPP database.\n",
    "\n",
    "year_of_capacity_data (number): year the capacity information was reported\n",
    "\n",
    "generation_gwh_2013 (number): electricity generation in gigawatt-hours reported for the year 2013\n",
    "\n",
    "generation_gwh_2014 (number): electricity generation in gigawatt-hours reported for the year 2014\n",
    "\n",
    "generation_gwh_2015 (number): electricity generation in gigawatt-hours reported for the year 2015\n",
    "\n",
    "generation_gwh_2016 (number): electricity generation in gigawatt-hours reported for the year 2016\n",
    "\n",
    "generation_gwh_2017 (number): electricity generation in gigawatt-hours reported for the year 2017\n",
    "\n",
    "generation_gwh_2018 (number): electricity generation in gigawatt-hours reported for the year 2018\n",
    "\n",
    "generation_gwh_2019 (number): electricity generation in gigawatt-hours reported for the year 2019\n",
    "\n",
    "generation_data_source (text): attribution for the reported generation information\n",
    "\n",
    "estimated_generation_gwh_2013 (number): estimated electricity generation in gigawatt-hours for the year 2013\n",
    "\n",
    "estimated_generation_gwh_2014 (number): estimated electricity generation in gigawatt-hours for the year 2014\n",
    "\n",
    "estimated_generation_gwh_2015 (number): estimated electricity generation in gigawatt-hours for the year 2015\n",
    "\n",
    "estimated_generation_gwh_2016 (number): estimated electricity generation in gigawatt-hours for the year 2016\n",
    "\n",
    "estimated_generation_gwh_2017 (number): estimated electricity generation in gigawatt-hours for the year 2017\n",
    "\n",
    "'estimated_generation_note_2013` (text): label of the model/method used to estimate generation for the year 2013\n",
    "\n",
    "estimated_generation_note_2014 (text): label of the model/method used to estimate generation for the year 2014\n",
    "\n",
    "estimated_generation_note_2015 (text): label of the model/method used to estimate generation for the year 2015\n",
    "\n",
    "estimated_generation_note_2016 (text): label of the model/method used to estimate generation for the year 2016\n",
    "\n",
    "estimated_generation_note_2017 (text): label of the model/method used to estimate generation for the year 2017"
   ]
  },
  {
   "cell_type": "markdown",
   "id": "cb92a63a",
   "metadata": {},
   "source": [
    "# AIM"
   ]
  },
  {
   "cell_type": "markdown",
   "id": "c4f90d30",
   "metadata": {},
   "source": [
    "Prediction : Make two prediction\n",
    "\n",
    "1) Primary Fuel \n",
    "\n",
    "\n",
    "2) capacity_mw "
   ]
  },
  {
   "cell_type": "markdown",
   "id": "18ef071a",
   "metadata": {},
   "source": [
    "# Load Libraries"
   ]
  },
  {
   "cell_type": "code",
   "execution_count": 107,
   "id": "052a4d83",
   "metadata": {},
   "outputs": [],
   "source": [
    "import numpy as np\n",
    "import pandas as pd\n",
    "import io\n",
    "import requests\n",
    "import seaborn as sns\n",
    "from matplotlib import pyplot as plt\n",
    "from scipy.stats import zscore\n",
    "from sklearn.svm import SVR\n",
    "import pickle\n",
    "import os\n",
    "import joblib\n",
    "import plotly.express as px\n",
    "from sklearn.preprocessing import MinMaxScaler\n",
    "from sklearn.preprocessing import power_transform\n",
    "from pandas.api.types import CategoricalDtype\n",
    "from sklearn.base import BaseEstimator, TransformerMixin\n",
    "from sklearn.tree import DecisionTreeRegressor\n",
    "from sklearn.pipeline import Pipeline\n",
    "from sklearn.metrics import accuracy_score\n",
    "from sklearn.linear_model import Ridge\n",
    "from sklearn.ensemble import RandomForestRegressor\n",
    "from sklearn.linear_model import LogisticRegression\n",
    "from sklearn.linear_model import LinearRegression\n",
    "from sklearn.model_selection import GridSearchCV\n",
    "from sklearn.ensemble import GradientBoostingRegressor\n",
    "from sklearn.metrics import classification_report\n",
    "from sklearn.metrics import confusion_matrix\n",
    "from sklearn.preprocessing import StandardScaler,LabelEncoder\n",
    "from sklearn.pipeline import FeatureUnion\n",
    "from sklearn.model_selection import cross_val_score\n",
    "from sklearn.model_selection import train_test_split\n",
    "from sklearn.metrics import mean_squared_error,mean_absolute_error\n",
    "from sklearn.metrics import r2_score\n",
    "%matplotlib inline"
   ]
  },
  {
   "cell_type": "markdown",
   "id": "3675fdcd",
   "metadata": {},
   "source": [
    "# Load The Data"
   ]
  },
  {
   "cell_type": "code",
   "execution_count": 2,
   "id": "9e68cf66",
   "metadata": {},
   "outputs": [
    {
     "data": {
      "text/html": [
       "<div>\n",
       "<style scoped>\n",
       "    .dataframe tbody tr th:only-of-type {\n",
       "        vertical-align: middle;\n",
       "    }\n",
       "\n",
       "    .dataframe tbody tr th {\n",
       "        vertical-align: top;\n",
       "    }\n",
       "\n",
       "    .dataframe thead th {\n",
       "        text-align: right;\n",
       "    }\n",
       "</style>\n",
       "<table border=\"1\" class=\"dataframe\">\n",
       "  <thead>\n",
       "    <tr style=\"text-align: right;\">\n",
       "      <th></th>\n",
       "      <th>country</th>\n",
       "      <th>country_long</th>\n",
       "      <th>name</th>\n",
       "      <th>gppd_idnr</th>\n",
       "      <th>capacity_mw</th>\n",
       "      <th>latitude</th>\n",
       "      <th>longitude</th>\n",
       "      <th>primary_fuel</th>\n",
       "      <th>other_fuel1</th>\n",
       "      <th>other_fuel2</th>\n",
       "      <th>...</th>\n",
       "      <th>geolocation_source</th>\n",
       "      <th>wepp_id</th>\n",
       "      <th>year_of_capacity_data</th>\n",
       "      <th>generation_gwh_2013</th>\n",
       "      <th>generation_gwh_2014</th>\n",
       "      <th>generation_gwh_2015</th>\n",
       "      <th>generation_gwh_2016</th>\n",
       "      <th>generation_gwh_2017</th>\n",
       "      <th>generation_data_source</th>\n",
       "      <th>estimated_generation_gwh</th>\n",
       "    </tr>\n",
       "  </thead>\n",
       "  <tbody>\n",
       "    <tr>\n",
       "      <th>0</th>\n",
       "      <td>IND</td>\n",
       "      <td>India</td>\n",
       "      <td>ACME Solar Tower</td>\n",
       "      <td>WRI1020239</td>\n",
       "      <td>2.5</td>\n",
       "      <td>28.1839</td>\n",
       "      <td>73.2407</td>\n",
       "      <td>Solar</td>\n",
       "      <td>NaN</td>\n",
       "      <td>NaN</td>\n",
       "      <td>...</td>\n",
       "      <td>National Renewable Energy Laboratory</td>\n",
       "      <td>NaN</td>\n",
       "      <td>NaN</td>\n",
       "      <td>NaN</td>\n",
       "      <td>NaN</td>\n",
       "      <td>NaN</td>\n",
       "      <td>NaN</td>\n",
       "      <td>NaN</td>\n",
       "      <td>NaN</td>\n",
       "      <td>NaN</td>\n",
       "    </tr>\n",
       "    <tr>\n",
       "      <th>1</th>\n",
       "      <td>IND</td>\n",
       "      <td>India</td>\n",
       "      <td>ADITYA CEMENT WORKS</td>\n",
       "      <td>WRI1019881</td>\n",
       "      <td>98.0</td>\n",
       "      <td>24.7663</td>\n",
       "      <td>74.6090</td>\n",
       "      <td>Coal</td>\n",
       "      <td>NaN</td>\n",
       "      <td>NaN</td>\n",
       "      <td>...</td>\n",
       "      <td>WRI</td>\n",
       "      <td>NaN</td>\n",
       "      <td>NaN</td>\n",
       "      <td>NaN</td>\n",
       "      <td>NaN</td>\n",
       "      <td>NaN</td>\n",
       "      <td>NaN</td>\n",
       "      <td>NaN</td>\n",
       "      <td>NaN</td>\n",
       "      <td>NaN</td>\n",
       "    </tr>\n",
       "    <tr>\n",
       "      <th>2</th>\n",
       "      <td>IND</td>\n",
       "      <td>India</td>\n",
       "      <td>AES Saurashtra Windfarms</td>\n",
       "      <td>WRI1026669</td>\n",
       "      <td>39.2</td>\n",
       "      <td>21.9038</td>\n",
       "      <td>69.3732</td>\n",
       "      <td>Wind</td>\n",
       "      <td>NaN</td>\n",
       "      <td>NaN</td>\n",
       "      <td>...</td>\n",
       "      <td>WRI</td>\n",
       "      <td>NaN</td>\n",
       "      <td>NaN</td>\n",
       "      <td>NaN</td>\n",
       "      <td>NaN</td>\n",
       "      <td>NaN</td>\n",
       "      <td>NaN</td>\n",
       "      <td>NaN</td>\n",
       "      <td>NaN</td>\n",
       "      <td>NaN</td>\n",
       "    </tr>\n",
       "    <tr>\n",
       "      <th>3</th>\n",
       "      <td>IND</td>\n",
       "      <td>India</td>\n",
       "      <td>AGARTALA GT</td>\n",
       "      <td>IND0000001</td>\n",
       "      <td>135.0</td>\n",
       "      <td>23.8712</td>\n",
       "      <td>91.3602</td>\n",
       "      <td>Gas</td>\n",
       "      <td>NaN</td>\n",
       "      <td>NaN</td>\n",
       "      <td>...</td>\n",
       "      <td>WRI</td>\n",
       "      <td>NaN</td>\n",
       "      <td>2018.0</td>\n",
       "      <td>631.777928</td>\n",
       "      <td>617.789264</td>\n",
       "      <td>843.747000</td>\n",
       "      <td>886.004428</td>\n",
       "      <td>663.774500</td>\n",
       "      <td>Central Electricity Authority</td>\n",
       "      <td>NaN</td>\n",
       "    </tr>\n",
       "    <tr>\n",
       "      <th>4</th>\n",
       "      <td>IND</td>\n",
       "      <td>India</td>\n",
       "      <td>AKALTARA TPP</td>\n",
       "      <td>IND0000002</td>\n",
       "      <td>1800.0</td>\n",
       "      <td>21.9603</td>\n",
       "      <td>82.4091</td>\n",
       "      <td>Coal</td>\n",
       "      <td>Oil</td>\n",
       "      <td>NaN</td>\n",
       "      <td>...</td>\n",
       "      <td>WRI</td>\n",
       "      <td>NaN</td>\n",
       "      <td>2018.0</td>\n",
       "      <td>1668.290000</td>\n",
       "      <td>3035.550000</td>\n",
       "      <td>5916.370000</td>\n",
       "      <td>6243.000000</td>\n",
       "      <td>5385.579736</td>\n",
       "      <td>Central Electricity Authority</td>\n",
       "      <td>NaN</td>\n",
       "    </tr>\n",
       "    <tr>\n",
       "      <th>...</th>\n",
       "      <td>...</td>\n",
       "      <td>...</td>\n",
       "      <td>...</td>\n",
       "      <td>...</td>\n",
       "      <td>...</td>\n",
       "      <td>...</td>\n",
       "      <td>...</td>\n",
       "      <td>...</td>\n",
       "      <td>...</td>\n",
       "      <td>...</td>\n",
       "      <td>...</td>\n",
       "      <td>...</td>\n",
       "      <td>...</td>\n",
       "      <td>...</td>\n",
       "      <td>...</td>\n",
       "      <td>...</td>\n",
       "      <td>...</td>\n",
       "      <td>...</td>\n",
       "      <td>...</td>\n",
       "      <td>...</td>\n",
       "      <td>...</td>\n",
       "    </tr>\n",
       "    <tr>\n",
       "      <th>903</th>\n",
       "      <td>IND</td>\n",
       "      <td>India</td>\n",
       "      <td>YERMARUS TPP</td>\n",
       "      <td>IND0000513</td>\n",
       "      <td>1600.0</td>\n",
       "      <td>16.2949</td>\n",
       "      <td>77.3568</td>\n",
       "      <td>Coal</td>\n",
       "      <td>Oil</td>\n",
       "      <td>NaN</td>\n",
       "      <td>...</td>\n",
       "      <td>WRI</td>\n",
       "      <td>NaN</td>\n",
       "      <td>2018.0</td>\n",
       "      <td>NaN</td>\n",
       "      <td>NaN</td>\n",
       "      <td>0.994875</td>\n",
       "      <td>233.596650</td>\n",
       "      <td>865.400000</td>\n",
       "      <td>Central Electricity Authority</td>\n",
       "      <td>NaN</td>\n",
       "    </tr>\n",
       "    <tr>\n",
       "      <th>904</th>\n",
       "      <td>IND</td>\n",
       "      <td>India</td>\n",
       "      <td>Yelesandra Solar Power Plant</td>\n",
       "      <td>WRI1026222</td>\n",
       "      <td>3.0</td>\n",
       "      <td>12.8932</td>\n",
       "      <td>78.1654</td>\n",
       "      <td>Solar</td>\n",
       "      <td>NaN</td>\n",
       "      <td>NaN</td>\n",
       "      <td>...</td>\n",
       "      <td>Industry About</td>\n",
       "      <td>NaN</td>\n",
       "      <td>NaN</td>\n",
       "      <td>NaN</td>\n",
       "      <td>NaN</td>\n",
       "      <td>NaN</td>\n",
       "      <td>NaN</td>\n",
       "      <td>NaN</td>\n",
       "      <td>NaN</td>\n",
       "      <td>NaN</td>\n",
       "    </tr>\n",
       "    <tr>\n",
       "      <th>905</th>\n",
       "      <td>IND</td>\n",
       "      <td>India</td>\n",
       "      <td>Yelisirur wind power project</td>\n",
       "      <td>WRI1026776</td>\n",
       "      <td>25.5</td>\n",
       "      <td>15.2758</td>\n",
       "      <td>75.5811</td>\n",
       "      <td>Wind</td>\n",
       "      <td>NaN</td>\n",
       "      <td>NaN</td>\n",
       "      <td>...</td>\n",
       "      <td>WRI</td>\n",
       "      <td>NaN</td>\n",
       "      <td>NaN</td>\n",
       "      <td>NaN</td>\n",
       "      <td>NaN</td>\n",
       "      <td>NaN</td>\n",
       "      <td>NaN</td>\n",
       "      <td>NaN</td>\n",
       "      <td>NaN</td>\n",
       "      <td>NaN</td>\n",
       "    </tr>\n",
       "    <tr>\n",
       "      <th>906</th>\n",
       "      <td>IND</td>\n",
       "      <td>India</td>\n",
       "      <td>ZAWAR MINES</td>\n",
       "      <td>WRI1019901</td>\n",
       "      <td>80.0</td>\n",
       "      <td>24.3500</td>\n",
       "      <td>73.7477</td>\n",
       "      <td>Coal</td>\n",
       "      <td>NaN</td>\n",
       "      <td>NaN</td>\n",
       "      <td>...</td>\n",
       "      <td>WRI</td>\n",
       "      <td>NaN</td>\n",
       "      <td>NaN</td>\n",
       "      <td>NaN</td>\n",
       "      <td>NaN</td>\n",
       "      <td>NaN</td>\n",
       "      <td>NaN</td>\n",
       "      <td>NaN</td>\n",
       "      <td>NaN</td>\n",
       "      <td>NaN</td>\n",
       "    </tr>\n",
       "    <tr>\n",
       "      <th>907</th>\n",
       "      <td>IND</td>\n",
       "      <td>India</td>\n",
       "      <td>iEnergy Theni Wind Farm</td>\n",
       "      <td>WRI1026761</td>\n",
       "      <td>16.5</td>\n",
       "      <td>9.9344</td>\n",
       "      <td>77.4768</td>\n",
       "      <td>Wind</td>\n",
       "      <td>NaN</td>\n",
       "      <td>NaN</td>\n",
       "      <td>...</td>\n",
       "      <td>WRI</td>\n",
       "      <td>NaN</td>\n",
       "      <td>NaN</td>\n",
       "      <td>NaN</td>\n",
       "      <td>NaN</td>\n",
       "      <td>NaN</td>\n",
       "      <td>NaN</td>\n",
       "      <td>NaN</td>\n",
       "      <td>NaN</td>\n",
       "      <td>NaN</td>\n",
       "    </tr>\n",
       "  </tbody>\n",
       "</table>\n",
       "<p>908 rows × 25 columns</p>\n",
       "</div>"
      ],
      "text/plain": [
       "    country country_long                          name   gppd_idnr  \\\n",
       "0       IND        India              ACME Solar Tower  WRI1020239   \n",
       "1       IND        India           ADITYA CEMENT WORKS  WRI1019881   \n",
       "2       IND        India      AES Saurashtra Windfarms  WRI1026669   \n",
       "3       IND        India                   AGARTALA GT  IND0000001   \n",
       "4       IND        India                  AKALTARA TPP  IND0000002   \n",
       "..      ...          ...                           ...         ...   \n",
       "903     IND        India                  YERMARUS TPP  IND0000513   \n",
       "904     IND        India  Yelesandra Solar Power Plant  WRI1026222   \n",
       "905     IND        India  Yelisirur wind power project  WRI1026776   \n",
       "906     IND        India                   ZAWAR MINES  WRI1019901   \n",
       "907     IND        India       iEnergy Theni Wind Farm  WRI1026761   \n",
       "\n",
       "     capacity_mw  latitude  longitude primary_fuel other_fuel1 other_fuel2  \\\n",
       "0            2.5   28.1839    73.2407        Solar         NaN         NaN   \n",
       "1           98.0   24.7663    74.6090         Coal         NaN         NaN   \n",
       "2           39.2   21.9038    69.3732         Wind         NaN         NaN   \n",
       "3          135.0   23.8712    91.3602          Gas         NaN         NaN   \n",
       "4         1800.0   21.9603    82.4091         Coal         Oil         NaN   \n",
       "..           ...       ...        ...          ...         ...         ...   \n",
       "903       1600.0   16.2949    77.3568         Coal         Oil         NaN   \n",
       "904          3.0   12.8932    78.1654        Solar         NaN         NaN   \n",
       "905         25.5   15.2758    75.5811         Wind         NaN         NaN   \n",
       "906         80.0   24.3500    73.7477         Coal         NaN         NaN   \n",
       "907         16.5    9.9344    77.4768         Wind         NaN         NaN   \n",
       "\n",
       "     ...                    geolocation_source  wepp_id year_of_capacity_data  \\\n",
       "0    ...  National Renewable Energy Laboratory      NaN                   NaN   \n",
       "1    ...                                   WRI      NaN                   NaN   \n",
       "2    ...                                   WRI      NaN                   NaN   \n",
       "3    ...                                   WRI      NaN                2018.0   \n",
       "4    ...                                   WRI      NaN                2018.0   \n",
       "..   ...                                   ...      ...                   ...   \n",
       "903  ...                                   WRI      NaN                2018.0   \n",
       "904  ...                        Industry About      NaN                   NaN   \n",
       "905  ...                                   WRI      NaN                   NaN   \n",
       "906  ...                                   WRI      NaN                   NaN   \n",
       "907  ...                                   WRI      NaN                   NaN   \n",
       "\n",
       "    generation_gwh_2013 generation_gwh_2014 generation_gwh_2015  \\\n",
       "0                   NaN                 NaN                 NaN   \n",
       "1                   NaN                 NaN                 NaN   \n",
       "2                   NaN                 NaN                 NaN   \n",
       "3            631.777928          617.789264          843.747000   \n",
       "4           1668.290000         3035.550000         5916.370000   \n",
       "..                  ...                 ...                 ...   \n",
       "903                 NaN                 NaN            0.994875   \n",
       "904                 NaN                 NaN                 NaN   \n",
       "905                 NaN                 NaN                 NaN   \n",
       "906                 NaN                 NaN                 NaN   \n",
       "907                 NaN                 NaN                 NaN   \n",
       "\n",
       "     generation_gwh_2016  generation_gwh_2017         generation_data_source  \\\n",
       "0                    NaN                  NaN                            NaN   \n",
       "1                    NaN                  NaN                            NaN   \n",
       "2                    NaN                  NaN                            NaN   \n",
       "3             886.004428           663.774500  Central Electricity Authority   \n",
       "4            6243.000000          5385.579736  Central Electricity Authority   \n",
       "..                   ...                  ...                            ...   \n",
       "903           233.596650           865.400000  Central Electricity Authority   \n",
       "904                  NaN                  NaN                            NaN   \n",
       "905                  NaN                  NaN                            NaN   \n",
       "906                  NaN                  NaN                            NaN   \n",
       "907                  NaN                  NaN                            NaN   \n",
       "\n",
       "     estimated_generation_gwh  \n",
       "0                         NaN  \n",
       "1                         NaN  \n",
       "2                         NaN  \n",
       "3                         NaN  \n",
       "4                         NaN  \n",
       "..                        ...  \n",
       "903                       NaN  \n",
       "904                       NaN  \n",
       "905                       NaN  \n",
       "906                       NaN  \n",
       "907                       NaN  \n",
       "\n",
       "[908 rows x 25 columns]"
      ]
     },
     "execution_count": 2,
     "metadata": {},
     "output_type": "execute_result"
    }
   ],
   "source": [
    "df = pd.read_csv(\"global-power-plant-database_IND.csv\")\n",
    "df"
   ]
  },
  {
   "cell_type": "code",
   "execution_count": 3,
   "id": "b602545c",
   "metadata": {},
   "outputs": [
    {
     "data": {
      "text/html": [
       "<div>\n",
       "<style scoped>\n",
       "    .dataframe tbody tr th:only-of-type {\n",
       "        vertical-align: middle;\n",
       "    }\n",
       "\n",
       "    .dataframe tbody tr th {\n",
       "        vertical-align: top;\n",
       "    }\n",
       "\n",
       "    .dataframe thead th {\n",
       "        text-align: right;\n",
       "    }\n",
       "</style>\n",
       "<table border=\"1\" class=\"dataframe\">\n",
       "  <thead>\n",
       "    <tr style=\"text-align: right;\">\n",
       "      <th></th>\n",
       "      <th>country</th>\n",
       "      <th>country_long</th>\n",
       "      <th>name</th>\n",
       "      <th>gppd_idnr</th>\n",
       "      <th>capacity_mw</th>\n",
       "      <th>latitude</th>\n",
       "      <th>longitude</th>\n",
       "      <th>primary_fuel</th>\n",
       "      <th>other_fuel1</th>\n",
       "      <th>other_fuel2</th>\n",
       "      <th>...</th>\n",
       "      <th>geolocation_source</th>\n",
       "      <th>wepp_id</th>\n",
       "      <th>year_of_capacity_data</th>\n",
       "      <th>generation_gwh_2013</th>\n",
       "      <th>generation_gwh_2014</th>\n",
       "      <th>generation_gwh_2015</th>\n",
       "      <th>generation_gwh_2016</th>\n",
       "      <th>generation_gwh_2017</th>\n",
       "      <th>generation_data_source</th>\n",
       "      <th>estimated_generation_gwh</th>\n",
       "    </tr>\n",
       "  </thead>\n",
       "  <tbody>\n",
       "    <tr>\n",
       "      <th>903</th>\n",
       "      <td>IND</td>\n",
       "      <td>India</td>\n",
       "      <td>YERMARUS TPP</td>\n",
       "      <td>IND0000513</td>\n",
       "      <td>1600.0</td>\n",
       "      <td>16.2949</td>\n",
       "      <td>77.3568</td>\n",
       "      <td>Coal</td>\n",
       "      <td>Oil</td>\n",
       "      <td>NaN</td>\n",
       "      <td>...</td>\n",
       "      <td>WRI</td>\n",
       "      <td>NaN</td>\n",
       "      <td>2018.0</td>\n",
       "      <td>NaN</td>\n",
       "      <td>NaN</td>\n",
       "      <td>0.994875</td>\n",
       "      <td>233.59665</td>\n",
       "      <td>865.4</td>\n",
       "      <td>Central Electricity Authority</td>\n",
       "      <td>NaN</td>\n",
       "    </tr>\n",
       "    <tr>\n",
       "      <th>904</th>\n",
       "      <td>IND</td>\n",
       "      <td>India</td>\n",
       "      <td>Yelesandra Solar Power Plant</td>\n",
       "      <td>WRI1026222</td>\n",
       "      <td>3.0</td>\n",
       "      <td>12.8932</td>\n",
       "      <td>78.1654</td>\n",
       "      <td>Solar</td>\n",
       "      <td>NaN</td>\n",
       "      <td>NaN</td>\n",
       "      <td>...</td>\n",
       "      <td>Industry About</td>\n",
       "      <td>NaN</td>\n",
       "      <td>NaN</td>\n",
       "      <td>NaN</td>\n",
       "      <td>NaN</td>\n",
       "      <td>NaN</td>\n",
       "      <td>NaN</td>\n",
       "      <td>NaN</td>\n",
       "      <td>NaN</td>\n",
       "      <td>NaN</td>\n",
       "    </tr>\n",
       "    <tr>\n",
       "      <th>905</th>\n",
       "      <td>IND</td>\n",
       "      <td>India</td>\n",
       "      <td>Yelisirur wind power project</td>\n",
       "      <td>WRI1026776</td>\n",
       "      <td>25.5</td>\n",
       "      <td>15.2758</td>\n",
       "      <td>75.5811</td>\n",
       "      <td>Wind</td>\n",
       "      <td>NaN</td>\n",
       "      <td>NaN</td>\n",
       "      <td>...</td>\n",
       "      <td>WRI</td>\n",
       "      <td>NaN</td>\n",
       "      <td>NaN</td>\n",
       "      <td>NaN</td>\n",
       "      <td>NaN</td>\n",
       "      <td>NaN</td>\n",
       "      <td>NaN</td>\n",
       "      <td>NaN</td>\n",
       "      <td>NaN</td>\n",
       "      <td>NaN</td>\n",
       "    </tr>\n",
       "    <tr>\n",
       "      <th>906</th>\n",
       "      <td>IND</td>\n",
       "      <td>India</td>\n",
       "      <td>ZAWAR MINES</td>\n",
       "      <td>WRI1019901</td>\n",
       "      <td>80.0</td>\n",
       "      <td>24.3500</td>\n",
       "      <td>73.7477</td>\n",
       "      <td>Coal</td>\n",
       "      <td>NaN</td>\n",
       "      <td>NaN</td>\n",
       "      <td>...</td>\n",
       "      <td>WRI</td>\n",
       "      <td>NaN</td>\n",
       "      <td>NaN</td>\n",
       "      <td>NaN</td>\n",
       "      <td>NaN</td>\n",
       "      <td>NaN</td>\n",
       "      <td>NaN</td>\n",
       "      <td>NaN</td>\n",
       "      <td>NaN</td>\n",
       "      <td>NaN</td>\n",
       "    </tr>\n",
       "    <tr>\n",
       "      <th>907</th>\n",
       "      <td>IND</td>\n",
       "      <td>India</td>\n",
       "      <td>iEnergy Theni Wind Farm</td>\n",
       "      <td>WRI1026761</td>\n",
       "      <td>16.5</td>\n",
       "      <td>9.9344</td>\n",
       "      <td>77.4768</td>\n",
       "      <td>Wind</td>\n",
       "      <td>NaN</td>\n",
       "      <td>NaN</td>\n",
       "      <td>...</td>\n",
       "      <td>WRI</td>\n",
       "      <td>NaN</td>\n",
       "      <td>NaN</td>\n",
       "      <td>NaN</td>\n",
       "      <td>NaN</td>\n",
       "      <td>NaN</td>\n",
       "      <td>NaN</td>\n",
       "      <td>NaN</td>\n",
       "      <td>NaN</td>\n",
       "      <td>NaN</td>\n",
       "    </tr>\n",
       "  </tbody>\n",
       "</table>\n",
       "<p>5 rows × 25 columns</p>\n",
       "</div>"
      ],
      "text/plain": [
       "    country country_long                          name   gppd_idnr  \\\n",
       "903     IND        India                  YERMARUS TPP  IND0000513   \n",
       "904     IND        India  Yelesandra Solar Power Plant  WRI1026222   \n",
       "905     IND        India  Yelisirur wind power project  WRI1026776   \n",
       "906     IND        India                   ZAWAR MINES  WRI1019901   \n",
       "907     IND        India       iEnergy Theni Wind Farm  WRI1026761   \n",
       "\n",
       "     capacity_mw  latitude  longitude primary_fuel other_fuel1 other_fuel2  \\\n",
       "903       1600.0   16.2949    77.3568         Coal         Oil         NaN   \n",
       "904          3.0   12.8932    78.1654        Solar         NaN         NaN   \n",
       "905         25.5   15.2758    75.5811         Wind         NaN         NaN   \n",
       "906         80.0   24.3500    73.7477         Coal         NaN         NaN   \n",
       "907         16.5    9.9344    77.4768         Wind         NaN         NaN   \n",
       "\n",
       "     ...  geolocation_source  wepp_id year_of_capacity_data  \\\n",
       "903  ...                 WRI      NaN                2018.0   \n",
       "904  ...      Industry About      NaN                   NaN   \n",
       "905  ...                 WRI      NaN                   NaN   \n",
       "906  ...                 WRI      NaN                   NaN   \n",
       "907  ...                 WRI      NaN                   NaN   \n",
       "\n",
       "    generation_gwh_2013 generation_gwh_2014 generation_gwh_2015  \\\n",
       "903                 NaN                 NaN            0.994875   \n",
       "904                 NaN                 NaN                 NaN   \n",
       "905                 NaN                 NaN                 NaN   \n",
       "906                 NaN                 NaN                 NaN   \n",
       "907                 NaN                 NaN                 NaN   \n",
       "\n",
       "     generation_gwh_2016  generation_gwh_2017         generation_data_source  \\\n",
       "903            233.59665                865.4  Central Electricity Authority   \n",
       "904                  NaN                  NaN                            NaN   \n",
       "905                  NaN                  NaN                            NaN   \n",
       "906                  NaN                  NaN                            NaN   \n",
       "907                  NaN                  NaN                            NaN   \n",
       "\n",
       "     estimated_generation_gwh  \n",
       "903                       NaN  \n",
       "904                       NaN  \n",
       "905                       NaN  \n",
       "906                       NaN  \n",
       "907                       NaN  \n",
       "\n",
       "[5 rows x 25 columns]"
      ]
     },
     "execution_count": 3,
     "metadata": {},
     "output_type": "execute_result"
    }
   ],
   "source": [
    "df.tail()"
   ]
  },
  {
   "cell_type": "code",
   "execution_count": 4,
   "id": "39e449aa",
   "metadata": {},
   "outputs": [
    {
     "data": {
      "text/plain": [
       "(908, 25)"
      ]
     },
     "execution_count": 4,
     "metadata": {},
     "output_type": "execute_result"
    }
   ],
   "source": [
    "df.shape"
   ]
  },
  {
   "cell_type": "markdown",
   "id": "4a42572a",
   "metadata": {},
   "source": [
    "We have 908 rows and 25 columns in data"
   ]
  },
  {
   "cell_type": "code",
   "execution_count": 5,
   "id": "a6b1df2f",
   "metadata": {},
   "outputs": [
    {
     "data": {
      "text/plain": [
       "country                       0\n",
       "country_long                  0\n",
       "name                          0\n",
       "gppd_idnr                     0\n",
       "capacity_mw                   0\n",
       "latitude                     46\n",
       "longitude                    46\n",
       "primary_fuel                  0\n",
       "other_fuel1                 709\n",
       "other_fuel2                 907\n",
       "other_fuel3                 908\n",
       "commissioning_year          380\n",
       "owner                       566\n",
       "source                        0\n",
       "url                           0\n",
       "geolocation_source           19\n",
       "wepp_id                     908\n",
       "year_of_capacity_data       388\n",
       "generation_gwh_2013         524\n",
       "generation_gwh_2014         507\n",
       "generation_gwh_2015         483\n",
       "generation_gwh_2016         471\n",
       "generation_gwh_2017         465\n",
       "generation_data_source      458\n",
       "estimated_generation_gwh    908\n",
       "dtype: int64"
      ]
     },
     "execution_count": 5,
     "metadata": {},
     "output_type": "execute_result"
    }
   ],
   "source": [
    "df.isnull().sum()"
   ]
  },
  {
   "cell_type": "code",
   "execution_count": 6,
   "id": "76da1874",
   "metadata": {},
   "outputs": [
    {
     "name": "stdout",
     "output_type": "stream",
     "text": [
      "<class 'pandas.core.frame.DataFrame'>\n",
      "RangeIndex: 908 entries, 0 to 907\n",
      "Data columns (total 25 columns):\n",
      " #   Column                    Non-Null Count  Dtype  \n",
      "---  ------                    --------------  -----  \n",
      " 0   country                   908 non-null    object \n",
      " 1   country_long              908 non-null    object \n",
      " 2   name                      908 non-null    object \n",
      " 3   gppd_idnr                 908 non-null    object \n",
      " 4   capacity_mw               908 non-null    float64\n",
      " 5   latitude                  862 non-null    float64\n",
      " 6   longitude                 862 non-null    float64\n",
      " 7   primary_fuel              908 non-null    object \n",
      " 8   other_fuel1               199 non-null    object \n",
      " 9   other_fuel2               1 non-null      object \n",
      " 10  other_fuel3               0 non-null      float64\n",
      " 11  commissioning_year        528 non-null    float64\n",
      " 12  owner                     342 non-null    object \n",
      " 13  source                    908 non-null    object \n",
      " 14  url                       908 non-null    object \n",
      " 15  geolocation_source        889 non-null    object \n",
      " 16  wepp_id                   0 non-null      float64\n",
      " 17  year_of_capacity_data     520 non-null    float64\n",
      " 18  generation_gwh_2013       384 non-null    float64\n",
      " 19  generation_gwh_2014       401 non-null    float64\n",
      " 20  generation_gwh_2015       425 non-null    float64\n",
      " 21  generation_gwh_2016       437 non-null    float64\n",
      " 22  generation_gwh_2017       443 non-null    float64\n",
      " 23  generation_data_source    450 non-null    object \n",
      " 24  estimated_generation_gwh  0 non-null      float64\n",
      "dtypes: float64(13), object(12)\n",
      "memory usage: 177.5+ KB\n"
     ]
    }
   ],
   "source": [
    "df.info()"
   ]
  },
  {
   "cell_type": "markdown",
   "id": "8942886c",
   "metadata": {},
   "source": [
    "# We are going to remove some columns those having maximum no of null values because if we fill those values prediction will not correct"
   ]
  },
  {
   "cell_type": "code",
   "execution_count": 7,
   "id": "0c67a706",
   "metadata": {},
   "outputs": [],
   "source": [
    "df.drop(['estimated_generation_gwh','wepp_id','other_fuel3','other_fuel1','other_fuel2'],axis=1,inplace=True)"
   ]
  },
  {
   "cell_type": "code",
   "execution_count": 8,
   "id": "3c8a72c5",
   "metadata": {},
   "outputs": [
    {
     "data": {
      "text/plain": [
       "country                     0\n",
       "country_long                0\n",
       "name                        0\n",
       "gppd_idnr                   0\n",
       "capacity_mw                 0\n",
       "latitude                   46\n",
       "longitude                  46\n",
       "primary_fuel                0\n",
       "commissioning_year        380\n",
       "owner                     566\n",
       "source                      0\n",
       "url                         0\n",
       "geolocation_source         19\n",
       "year_of_capacity_data     388\n",
       "generation_gwh_2013       524\n",
       "generation_gwh_2014       507\n",
       "generation_gwh_2015       483\n",
       "generation_gwh_2016       471\n",
       "generation_gwh_2017       465\n",
       "generation_data_source    458\n",
       "dtype: int64"
      ]
     },
     "execution_count": 8,
     "metadata": {},
     "output_type": "execute_result"
    }
   ],
   "source": [
    "df.isnull().sum()"
   ]
  },
  {
   "cell_type": "markdown",
   "id": "0d94acba",
   "metadata": {},
   "source": [
    "# Removing Unwanted Columns"
   ]
  },
  {
   "cell_type": "code",
   "execution_count": 9,
   "id": "dfc68646",
   "metadata": {},
   "outputs": [],
   "source": [
    "df.drop(['gppd_idnr','owner','generation_data_source'],axis=1,inplace=True)"
   ]
  },
  {
   "cell_type": "code",
   "execution_count": 10,
   "id": "ec72badd",
   "metadata": {},
   "outputs": [
    {
     "data": {
      "text/plain": [
       "country                    0\n",
       "country_long               0\n",
       "name                       0\n",
       "capacity_mw                0\n",
       "latitude                  46\n",
       "longitude                 46\n",
       "primary_fuel               0\n",
       "commissioning_year       380\n",
       "source                     0\n",
       "url                        0\n",
       "geolocation_source        19\n",
       "year_of_capacity_data    388\n",
       "generation_gwh_2013      524\n",
       "generation_gwh_2014      507\n",
       "generation_gwh_2015      483\n",
       "generation_gwh_2016      471\n",
       "generation_gwh_2017      465\n",
       "dtype: int64"
      ]
     },
     "execution_count": 10,
     "metadata": {},
     "output_type": "execute_result"
    }
   ],
   "source": [
    "df.isnull().sum()"
   ]
  },
  {
   "cell_type": "code",
   "execution_count": 11,
   "id": "28ff7628",
   "metadata": {},
   "outputs": [
    {
     "data": {
      "text/html": [
       "<div>\n",
       "<style scoped>\n",
       "    .dataframe tbody tr th:only-of-type {\n",
       "        vertical-align: middle;\n",
       "    }\n",
       "\n",
       "    .dataframe tbody tr th {\n",
       "        vertical-align: top;\n",
       "    }\n",
       "\n",
       "    .dataframe thead th {\n",
       "        text-align: right;\n",
       "    }\n",
       "</style>\n",
       "<table border=\"1\" class=\"dataframe\">\n",
       "  <thead>\n",
       "    <tr style=\"text-align: right;\">\n",
       "      <th></th>\n",
       "      <th>capacity_mw</th>\n",
       "      <th>latitude</th>\n",
       "      <th>longitude</th>\n",
       "      <th>commissioning_year</th>\n",
       "      <th>year_of_capacity_data</th>\n",
       "      <th>generation_gwh_2013</th>\n",
       "      <th>generation_gwh_2014</th>\n",
       "      <th>generation_gwh_2015</th>\n",
       "      <th>generation_gwh_2016</th>\n",
       "      <th>generation_gwh_2017</th>\n",
       "    </tr>\n",
       "  </thead>\n",
       "  <tbody>\n",
       "    <tr>\n",
       "      <th>count</th>\n",
       "      <td>908.000000</td>\n",
       "      <td>862.000000</td>\n",
       "      <td>862.000000</td>\n",
       "      <td>528.000000</td>\n",
       "      <td>520.0</td>\n",
       "      <td>384.000000</td>\n",
       "      <td>401.000000</td>\n",
       "      <td>425.000000</td>\n",
       "      <td>437.000000</td>\n",
       "      <td>443.000000</td>\n",
       "    </tr>\n",
       "    <tr>\n",
       "      <th>mean</th>\n",
       "      <td>321.046378</td>\n",
       "      <td>21.196189</td>\n",
       "      <td>77.447848</td>\n",
       "      <td>1996.876894</td>\n",
       "      <td>2018.0</td>\n",
       "      <td>2304.059202</td>\n",
       "      <td>2420.393316</td>\n",
       "      <td>2414.072373</td>\n",
       "      <td>2453.936292</td>\n",
       "      <td>2531.754458</td>\n",
       "    </tr>\n",
       "    <tr>\n",
       "      <th>std</th>\n",
       "      <td>580.221767</td>\n",
       "      <td>6.248627</td>\n",
       "      <td>4.907260</td>\n",
       "      <td>17.047817</td>\n",
       "      <td>0.0</td>\n",
       "      <td>3794.767492</td>\n",
       "      <td>4013.558173</td>\n",
       "      <td>4183.203199</td>\n",
       "      <td>4152.038216</td>\n",
       "      <td>4187.236364</td>\n",
       "    </tr>\n",
       "    <tr>\n",
       "      <th>min</th>\n",
       "      <td>0.000000</td>\n",
       "      <td>8.168900</td>\n",
       "      <td>68.644700</td>\n",
       "      <td>1927.000000</td>\n",
       "      <td>2018.0</td>\n",
       "      <td>0.000000</td>\n",
       "      <td>0.000000</td>\n",
       "      <td>0.000000</td>\n",
       "      <td>0.000000</td>\n",
       "      <td>0.000000</td>\n",
       "    </tr>\n",
       "    <tr>\n",
       "      <th>25%</th>\n",
       "      <td>16.837500</td>\n",
       "      <td>16.771575</td>\n",
       "      <td>74.258975</td>\n",
       "      <td>1988.000000</td>\n",
       "      <td>2018.0</td>\n",
       "      <td>244.458088</td>\n",
       "      <td>223.650436</td>\n",
       "      <td>174.174750</td>\n",
       "      <td>187.193669</td>\n",
       "      <td>177.643170</td>\n",
       "    </tr>\n",
       "    <tr>\n",
       "      <th>50%</th>\n",
       "      <td>60.000000</td>\n",
       "      <td>21.778300</td>\n",
       "      <td>76.719250</td>\n",
       "      <td>2000.000000</td>\n",
       "      <td>2018.0</td>\n",
       "      <td>797.063475</td>\n",
       "      <td>805.760000</td>\n",
       "      <td>701.027250</td>\n",
       "      <td>716.728350</td>\n",
       "      <td>807.601700</td>\n",
       "    </tr>\n",
       "    <tr>\n",
       "      <th>75%</th>\n",
       "      <td>388.125000</td>\n",
       "      <td>25.516375</td>\n",
       "      <td>79.441475</td>\n",
       "      <td>2011.250000</td>\n",
       "      <td>2018.0</td>\n",
       "      <td>2795.021500</td>\n",
       "      <td>3034.575000</td>\n",
       "      <td>3080.000000</td>\n",
       "      <td>3263.483000</td>\n",
       "      <td>3258.785000</td>\n",
       "    </tr>\n",
       "    <tr>\n",
       "      <th>max</th>\n",
       "      <td>4760.000000</td>\n",
       "      <td>34.649000</td>\n",
       "      <td>95.408000</td>\n",
       "      <td>2018.000000</td>\n",
       "      <td>2018.0</td>\n",
       "      <td>27586.200000</td>\n",
       "      <td>28127.000000</td>\n",
       "      <td>30539.000000</td>\n",
       "      <td>30015.000000</td>\n",
       "      <td>35116.000000</td>\n",
       "    </tr>\n",
       "  </tbody>\n",
       "</table>\n",
       "</div>"
      ],
      "text/plain": [
       "       capacity_mw    latitude   longitude  commissioning_year  \\\n",
       "count   908.000000  862.000000  862.000000          528.000000   \n",
       "mean    321.046378   21.196189   77.447848         1996.876894   \n",
       "std     580.221767    6.248627    4.907260           17.047817   \n",
       "min       0.000000    8.168900   68.644700         1927.000000   \n",
       "25%      16.837500   16.771575   74.258975         1988.000000   \n",
       "50%      60.000000   21.778300   76.719250         2000.000000   \n",
       "75%     388.125000   25.516375   79.441475         2011.250000   \n",
       "max    4760.000000   34.649000   95.408000         2018.000000   \n",
       "\n",
       "       year_of_capacity_data  generation_gwh_2013  generation_gwh_2014  \\\n",
       "count                  520.0           384.000000           401.000000   \n",
       "mean                  2018.0          2304.059202          2420.393316   \n",
       "std                      0.0          3794.767492          4013.558173   \n",
       "min                   2018.0             0.000000             0.000000   \n",
       "25%                   2018.0           244.458088           223.650436   \n",
       "50%                   2018.0           797.063475           805.760000   \n",
       "75%                   2018.0          2795.021500          3034.575000   \n",
       "max                   2018.0         27586.200000         28127.000000   \n",
       "\n",
       "       generation_gwh_2015  generation_gwh_2016  generation_gwh_2017  \n",
       "count           425.000000           437.000000           443.000000  \n",
       "mean           2414.072373          2453.936292          2531.754458  \n",
       "std            4183.203199          4152.038216          4187.236364  \n",
       "min               0.000000             0.000000             0.000000  \n",
       "25%             174.174750           187.193669           177.643170  \n",
       "50%             701.027250           716.728350           807.601700  \n",
       "75%            3080.000000          3263.483000          3258.785000  \n",
       "max           30539.000000         30015.000000         35116.000000  "
      ]
     },
     "execution_count": 11,
     "metadata": {},
     "output_type": "execute_result"
    }
   ],
   "source": [
    "df.describe()"
   ]
  },
  {
   "cell_type": "code",
   "execution_count": 12,
   "id": "6f750386",
   "metadata": {},
   "outputs": [
    {
     "data": {
      "text/plain": [
       "1"
      ]
     },
     "execution_count": 12,
     "metadata": {},
     "output_type": "execute_result"
    }
   ],
   "source": [
    "df['year_of_capacity_data'].nunique()"
   ]
  },
  {
   "cell_type": "markdown",
   "id": "c534edba",
   "metadata": {},
   "source": [
    "->Also removing column 'year_of_capacity_data' because it having one unique value"
   ]
  },
  {
   "cell_type": "code",
   "execution_count": 13,
   "id": "ed8e6e82",
   "metadata": {},
   "outputs": [
    {
     "data": {
      "text/plain": [
       "908"
      ]
     },
     "execution_count": 13,
     "metadata": {},
     "output_type": "execute_result"
    }
   ],
   "source": [
    "df['name'].nunique()"
   ]
  },
  {
   "cell_type": "markdown",
   "id": "bae7f4fa",
   "metadata": {},
   "source": [
    "->lso dropping name column there no use of it\n"
   ]
  },
  {
   "cell_type": "code",
   "execution_count": 14,
   "id": "24c72130",
   "metadata": {},
   "outputs": [],
   "source": [
    "df.drop(['name','url'],axis=1,inplace=True)"
   ]
  },
  {
   "cell_type": "code",
   "execution_count": 15,
   "id": "230c549d",
   "metadata": {},
   "outputs": [
    {
     "data": {
      "text/plain": [
       "array(['National Renewable Energy Laboratory', 'WRI', nan,\n",
       "       'Industry About'], dtype=object)"
      ]
     },
     "execution_count": 15,
     "metadata": {},
     "output_type": "execute_result"
    }
   ],
   "source": [
    "df['geolocation_source'].unique()"
   ]
  },
  {
   "cell_type": "code",
   "execution_count": 16,
   "id": "f7f4ec0c",
   "metadata": {},
   "outputs": [],
   "source": [
    "# filling geolocation_source with mode because category data\n",
    "df['geolocation_source'].fillna(df['geolocation_source'].mode()[0], inplace=True)"
   ]
  },
  {
   "cell_type": "code",
   "execution_count": 17,
   "id": "bc392ea9",
   "metadata": {},
   "outputs": [],
   "source": [
    "# removing 'year_of_capacity_data' column\n",
    "df.drop('year_of_capacity_data',axis=1,inplace=True)"
   ]
  },
  {
   "cell_type": "code",
   "execution_count": 18,
   "id": "9f6d5c56",
   "metadata": {},
   "outputs": [],
   "source": [
    "# filling null values with median in numerical columns\n",
    "df.fillna(df.median()[0], inplace=True)"
   ]
  },
  {
   "cell_type": "code",
   "execution_count": 19,
   "id": "1be07c30",
   "metadata": {},
   "outputs": [
    {
     "data": {
      "text/plain": [
       "country                0\n",
       "country_long           0\n",
       "capacity_mw            0\n",
       "latitude               0\n",
       "longitude              0\n",
       "primary_fuel           0\n",
       "commissioning_year     0\n",
       "source                 0\n",
       "geolocation_source     0\n",
       "generation_gwh_2013    0\n",
       "generation_gwh_2014    0\n",
       "generation_gwh_2015    0\n",
       "generation_gwh_2016    0\n",
       "generation_gwh_2017    0\n",
       "dtype: int64"
      ]
     },
     "execution_count": 19,
     "metadata": {},
     "output_type": "execute_result"
    }
   ],
   "source": [
    "df.isnull().sum()"
   ]
  },
  {
   "cell_type": "code",
   "execution_count": 20,
   "id": "798768ca",
   "metadata": {},
   "outputs": [
    {
     "data": {
      "text/plain": [
       "191"
      ]
     },
     "execution_count": 20,
     "metadata": {},
     "output_type": "execute_result"
    }
   ],
   "source": [
    "df['source'].nunique()"
   ]
  },
  {
   "cell_type": "code",
   "execution_count": 21,
   "id": "a5ad6f0c",
   "metadata": {},
   "outputs": [
    {
     "data": {
      "text/plain": [
       "3"
      ]
     },
     "execution_count": 21,
     "metadata": {},
     "output_type": "execute_result"
    }
   ],
   "source": [
    "df['geolocation_source'].nunique()"
   ]
  },
  {
   "cell_type": "code",
   "execution_count": 22,
   "id": "97cbf69d",
   "metadata": {},
   "outputs": [
    {
     "data": {
      "text/plain": [
       "1"
      ]
     },
     "execution_count": 22,
     "metadata": {},
     "output_type": "execute_result"
    }
   ],
   "source": [
    "df['country'].nunique()"
   ]
  },
  {
   "cell_type": "code",
   "execution_count": 23,
   "id": "0a219156",
   "metadata": {},
   "outputs": [
    {
     "data": {
      "text/plain": [
       "1"
      ]
     },
     "execution_count": 23,
     "metadata": {},
     "output_type": "execute_result"
    }
   ],
   "source": [
    "df['country_long'].nunique()"
   ]
  },
  {
   "cell_type": "markdown",
   "id": "4ad9d520",
   "metadata": {},
   "source": [
    "-> Also dropping columns 'country' and 'country_long' because having one country name only, it will not help for any prediction"
   ]
  },
  {
   "cell_type": "code",
   "execution_count": 24,
   "id": "bde245fc",
   "metadata": {},
   "outputs": [],
   "source": [
    "df.drop(['country','country_long'],axis=1,inplace=True)"
   ]
  },
  {
   "cell_type": "code",
   "execution_count": 25,
   "id": "53b33784",
   "metadata": {},
   "outputs": [
    {
     "name": "stdout",
     "output_type": "stream",
     "text": [
      "<class 'pandas.core.frame.DataFrame'>\n",
      "RangeIndex: 908 entries, 0 to 907\n",
      "Data columns (total 12 columns):\n",
      " #   Column               Non-Null Count  Dtype  \n",
      "---  ------               --------------  -----  \n",
      " 0   capacity_mw          908 non-null    float64\n",
      " 1   latitude             908 non-null    float64\n",
      " 2   longitude            908 non-null    float64\n",
      " 3   primary_fuel         908 non-null    object \n",
      " 4   commissioning_year   908 non-null    float64\n",
      " 5   source               908 non-null    object \n",
      " 6   geolocation_source   908 non-null    object \n",
      " 7   generation_gwh_2013  908 non-null    float64\n",
      " 8   generation_gwh_2014  908 non-null    float64\n",
      " 9   generation_gwh_2015  908 non-null    float64\n",
      " 10  generation_gwh_2016  908 non-null    float64\n",
      " 11  generation_gwh_2017  908 non-null    float64\n",
      "dtypes: float64(9), object(3)\n",
      "memory usage: 85.2+ KB\n"
     ]
    }
   ],
   "source": [
    "df.info()"
   ]
  },
  {
   "cell_type": "code",
   "execution_count": 26,
   "id": "eab0c46d",
   "metadata": {},
   "outputs": [
    {
     "data": {
      "text/plain": [
       "<AxesSubplot:xlabel='primary_fuel', ylabel='count'>"
      ]
     },
     "execution_count": 26,
     "metadata": {},
     "output_type": "execute_result"
    },
    {
     "data": {
      "image/png": "[encoded data removed]",
      "text/plain": [
       "<Figure size 432x288 with 1 Axes>"
      ]
     },
     "metadata": {},
     "output_type": "display_data"
    }
   ],
   "source": [
    "sns.set_style(\"whitegrid\")\n",
    "sns.countplot(x=\"primary_fuel\", data=df)"
   ]
  },
  {
   "cell_type": "markdown",
   "id": "9f8163ba",
   "metadata": {},
   "source": [
    "# Exploratory Data Analysis"
   ]
  },
  {
   "cell_type": "code",
   "execution_count": 27,
   "id": "4cf52ec1",
   "metadata": {},
   "outputs": [
    {
     "data": {
      "text/html": [
       "<div>\n",
       "<style scoped>\n",
       "    .dataframe tbody tr th:only-of-type {\n",
       "        vertical-align: middle;\n",
       "    }\n",
       "\n",
       "    .dataframe tbody tr th {\n",
       "        vertical-align: top;\n",
       "    }\n",
       "\n",
       "    .dataframe thead th {\n",
       "        text-align: right;\n",
       "    }\n",
       "</style>\n",
       "<table border=\"1\" class=\"dataframe\">\n",
       "  <thead>\n",
       "    <tr style=\"text-align: right;\">\n",
       "      <th></th>\n",
       "      <th>capacity_mw</th>\n",
       "      <th>latitude</th>\n",
       "      <th>longitude</th>\n",
       "      <th>primary_fuel</th>\n",
       "      <th>commissioning_year</th>\n",
       "      <th>source</th>\n",
       "      <th>geolocation_source</th>\n",
       "      <th>generation_gwh_2013</th>\n",
       "      <th>generation_gwh_2014</th>\n",
       "      <th>generation_gwh_2015</th>\n",
       "      <th>generation_gwh_2016</th>\n",
       "      <th>generation_gwh_2017</th>\n",
       "    </tr>\n",
       "  </thead>\n",
       "  <tbody>\n",
       "    <tr>\n",
       "      <th>0</th>\n",
       "      <td>2.5</td>\n",
       "      <td>28.1839</td>\n",
       "      <td>73.2407</td>\n",
       "      <td>Solar</td>\n",
       "      <td>2011.0</td>\n",
       "      <td>National Renewable Energy Laboratory</td>\n",
       "      <td>National Renewable Energy Laboratory</td>\n",
       "      <td>60.000000</td>\n",
       "      <td>60.000000</td>\n",
       "      <td>60.000</td>\n",
       "      <td>60.000000</td>\n",
       "      <td>60.000000</td>\n",
       "    </tr>\n",
       "    <tr>\n",
       "      <th>1</th>\n",
       "      <td>98.0</td>\n",
       "      <td>24.7663</td>\n",
       "      <td>74.6090</td>\n",
       "      <td>Coal</td>\n",
       "      <td>60.0</td>\n",
       "      <td>Ultratech Cement ltd</td>\n",
       "      <td>WRI</td>\n",
       "      <td>60.000000</td>\n",
       "      <td>60.000000</td>\n",
       "      <td>60.000</td>\n",
       "      <td>60.000000</td>\n",
       "      <td>60.000000</td>\n",
       "    </tr>\n",
       "    <tr>\n",
       "      <th>2</th>\n",
       "      <td>39.2</td>\n",
       "      <td>21.9038</td>\n",
       "      <td>69.3732</td>\n",
       "      <td>Wind</td>\n",
       "      <td>60.0</td>\n",
       "      <td>CDM</td>\n",
       "      <td>WRI</td>\n",
       "      <td>60.000000</td>\n",
       "      <td>60.000000</td>\n",
       "      <td>60.000</td>\n",
       "      <td>60.000000</td>\n",
       "      <td>60.000000</td>\n",
       "    </tr>\n",
       "    <tr>\n",
       "      <th>3</th>\n",
       "      <td>135.0</td>\n",
       "      <td>23.8712</td>\n",
       "      <td>91.3602</td>\n",
       "      <td>Gas</td>\n",
       "      <td>2004.0</td>\n",
       "      <td>Central Electricity Authority</td>\n",
       "      <td>WRI</td>\n",
       "      <td>631.777928</td>\n",
       "      <td>617.789264</td>\n",
       "      <td>843.747</td>\n",
       "      <td>886.004428</td>\n",
       "      <td>663.774500</td>\n",
       "    </tr>\n",
       "    <tr>\n",
       "      <th>4</th>\n",
       "      <td>1800.0</td>\n",
       "      <td>21.9603</td>\n",
       "      <td>82.4091</td>\n",
       "      <td>Coal</td>\n",
       "      <td>2015.0</td>\n",
       "      <td>Central Electricity Authority</td>\n",
       "      <td>WRI</td>\n",
       "      <td>1668.290000</td>\n",
       "      <td>3035.550000</td>\n",
       "      <td>5916.370</td>\n",
       "      <td>6243.000000</td>\n",
       "      <td>5385.579736</td>\n",
       "    </tr>\n",
       "  </tbody>\n",
       "</table>\n",
       "</div>"
      ],
      "text/plain": [
       "   capacity_mw  latitude  longitude primary_fuel  commissioning_year  \\\n",
       "0          2.5   28.1839    73.2407        Solar              2011.0   \n",
       "1         98.0   24.7663    74.6090         Coal                60.0   \n",
       "2         39.2   21.9038    69.3732         Wind                60.0   \n",
       "3        135.0   23.8712    91.3602          Gas              2004.0   \n",
       "4       1800.0   21.9603    82.4091         Coal              2015.0   \n",
       "\n",
       "                                 source                    geolocation_source  \\\n",
       "0  National Renewable Energy Laboratory  National Renewable Energy Laboratory   \n",
       "1                  Ultratech Cement ltd                                   WRI   \n",
       "2                                   CDM                                   WRI   \n",
       "3         Central Electricity Authority                                   WRI   \n",
       "4         Central Electricity Authority                                   WRI   \n",
       "\n",
       "   generation_gwh_2013  generation_gwh_2014  generation_gwh_2015  \\\n",
       "0            60.000000            60.000000               60.000   \n",
       "1            60.000000            60.000000               60.000   \n",
       "2            60.000000            60.000000               60.000   \n",
       "3           631.777928           617.789264              843.747   \n",
       "4          1668.290000          3035.550000             5916.370   \n",
       "\n",
       "   generation_gwh_2016  generation_gwh_2017  \n",
       "0            60.000000            60.000000  \n",
       "1            60.000000            60.000000  \n",
       "2            60.000000            60.000000  \n",
       "3           886.004428           663.774500  \n",
       "4          6243.000000          5385.579736  "
      ]
     },
     "execution_count": 27,
     "metadata": {},
     "output_type": "execute_result"
    }
   ],
   "source": [
    "df.head()"
   ]
  },
  {
   "cell_type": "code",
   "execution_count": 28,
   "id": "c18eba09",
   "metadata": {},
   "outputs": [],
   "source": [
    "dfcorr=df.corr()"
   ]
  },
  {
   "cell_type": "code",
   "execution_count": 29,
   "id": "1fe67655",
   "metadata": {},
   "outputs": [
    {
     "data": {
      "text/plain": [
       "<AxesSubplot:>"
      ]
     },
     "execution_count": 29,
     "metadata": {},
     "output_type": "execute_result"
    },
    {
     "data": {
      "image/png": "[encoded data removed]",
      "text/plain": [
       "<Figure size 432x288 with 2 Axes>"
      ]
     },
     "metadata": {},
     "output_type": "display_data"
    }
   ],
   "source": [
    "sns.heatmap(dfcorr,annot=True, linewidth=1)"
   ]
  },
  {
   "cell_type": "markdown",
   "id": "e855d4a0",
   "metadata": {},
   "source": [
    "Here we can notice generation_gwh_2013, generation_gwh_2014, generation_gwh_2015, generation_gwh_2016, generation_gwh_2017 are positively correlated to capacity_mw and latitude is negative correlated"
   ]
  },
  {
   "cell_type": "code",
   "execution_count": 30,
   "id": "b4ff1db3",
   "metadata": {},
   "outputs": [
    {
     "data": {
      "text/plain": [
       "<AxesSubplot:xlabel='capacity_mw', ylabel='generation_gwh_2013'>"
      ]
     },
     "execution_count": 30,
     "metadata": {},
     "output_type": "execute_result"
    },
    {
     "data": {
      "image/png": "[encoded data removed]",
      "text/plain": [
       "<Figure size 576x288 with 1 Axes>"
      ]
     },
     "metadata": {},
     "output_type": "display_data"
    }
   ],
   "source": [
    "plt.figure(figsize=(8,4))\n",
    "sns.scatterplot(x='capacity_mw',y='generation_gwh_2013',data=df)"
   ]
  },
  {
   "cell_type": "markdown",
   "id": "5b810e40",
   "metadata": {},
   "source": [
    "-> We can notice here as electricity generation in gigawatt-hour increasing also increasing the no of electrical generating capacity in megawatts in 2013"
   ]
  },
  {
   "cell_type": "code",
   "execution_count": 32,
   "id": "ac81f8bc",
   "metadata": {},
   "outputs": [
    {
     "data": {
      "text/plain": [
       "<AxesSubplot:xlabel='capacity_mw', ylabel='generation_gwh_2014'>"
      ]
     },
     "execution_count": 32,
     "metadata": {},
     "output_type": "execute_result"
    },
    {
     "data": {
      "image/png": "[encoded data removed]",
      "text/plain": [
       "<Figure size 576x288 with 1 Axes>"
      ]
     },
     "metadata": {},
     "output_type": "display_data"
    }
   ],
   "source": [
    "plt.figure(figsize=(8,4))\n",
    "sns.scatterplot(x='capacity_mw',y='generation_gwh_2014',data=df)"
   ]
  },
  {
   "cell_type": "markdown",
   "id": "e8c88036",
   "metadata": {},
   "source": [
    "In 2014 we can also notice here as electricity generation in gigawatt-hour increasing also increasing the no of electrical generating capacity in megawatts in 2014"
   ]
  },
  {
   "cell_type": "code",
   "execution_count": 33,
   "id": "408b3743",
   "metadata": {},
   "outputs": [
    {
     "data": {
      "text/plain": [
       "<AxesSubplot:xlabel='capacity_mw', ylabel='generation_gwh_2015'>"
      ]
     },
     "execution_count": 33,
     "metadata": {},
     "output_type": "execute_result"
    },
    {
     "data": {
      "image/png": "[encoded data removed]",
      "text/plain": [
       "<Figure size 576x288 with 1 Axes>"
      ]
     },
     "metadata": {},
     "output_type": "display_data"
    }
   ],
   "source": [
    "plt.figure(figsize=(8,4))\n",
    "sns.scatterplot(x='capacity_mw',y='generation_gwh_2015',data=df)"
   ]
  },
  {
   "cell_type": "markdown",
   "id": "33dcfbb2",
   "metadata": {},
   "source": [
    "In 2015 we can also notice here as electricity generation in gigawatt-hour increasing also increasing the no of electrical generating capacity in megawatts in 2015"
   ]
  },
  {
   "cell_type": "code",
   "execution_count": 34,
   "id": "a83b9e91",
   "metadata": {},
   "outputs": [
    {
     "data": {
      "text/plain": [
       "<AxesSubplot:xlabel='capacity_mw', ylabel='generation_gwh_2016'>"
      ]
     },
     "execution_count": 34,
     "metadata": {},
     "output_type": "execute_result"
    },
    {
     "data": {
      "image/png": "[encoded data removed]",
      "text/plain": [
       "<Figure size 576x288 with 1 Axes>"
      ]
     },
     "metadata": {},
     "output_type": "display_data"
    }
   ],
   "source": [
    "plt.figure(figsize=(8,4))\n",
    "sns.scatterplot(x='capacity_mw',y='generation_gwh_2016',data=df)"
   ]
  },
  {
   "cell_type": "markdown",
   "id": "41e86864",
   "metadata": {},
   "source": [
    "In 2016 we can also notice here as electricity generation in gigawatt-hour increasing also increasing the no of electrical generating capacity in megawatts in 2016"
   ]
  },
  {
   "cell_type": "code",
   "execution_count": 35,
   "id": "8b813342",
   "metadata": {},
   "outputs": [
    {
     "data": {
      "text/plain": [
       "<AxesSubplot:xlabel='capacity_mw', ylabel='generation_gwh_2017'>"
      ]
     },
     "execution_count": 35,
     "metadata": {},
     "output_type": "execute_result"
    },
    {
     "data": {
      "image/png": "[encoded data removed]",
      "text/plain": [
       "<Figure size 576x288 with 1 Axes>"
      ]
     },
     "metadata": {},
     "output_type": "display_data"
    }
   ],
   "source": [
    "plt.figure(figsize=(8,4))\n",
    "sns.scatterplot(x='capacity_mw',y='generation_gwh_2017',data=df)"
   ]
  },
  {
   "cell_type": "markdown",
   "id": "057328f2",
   "metadata": {},
   "source": [
    "In 2017 we can also notice here as electricity generation in gigawatt-hour increasing also increasing the no of electrical generating capacity in megawatts in 2017"
   ]
  },
  {
   "cell_type": "code",
   "execution_count": 36,
   "id": "7dc1a281",
   "metadata": {},
   "outputs": [
    {
     "data": {
      "text/plain": [
       "<AxesSubplot:xlabel='capacity_mw', ylabel='latitude'>"
      ]
     },
     "execution_count": 36,
     "metadata": {},
     "output_type": "execute_result"
    },
    {
     "data": {
      "image/png": "[encoded data removed]",
      "text/plain": [
       "<Figure size 576x288 with 1 Axes>"
      ]
     },
     "metadata": {},
     "output_type": "display_data"
    }
   ],
   "source": [
    "plt.figure(figsize=(8,4))\n",
    "sns.scatterplot(x='capacity_mw',y='latitude',data=df)"
   ]
  },
  {
   "cell_type": "code",
   "execution_count": 37,
   "id": "c27fd46e",
   "metadata": {},
   "outputs": [
    {
     "data": {
      "text/plain": [
       "<AxesSubplot:xlabel='primary_fuel', ylabel='generation_gwh_2013'>"
      ]
     },
     "execution_count": 37,
     "metadata": {},
     "output_type": "execute_result"
    },
    {
     "data": {
      "image/png": "[encoded data removed]",
      "text/plain": [
       "<Figure size 576x288 with 1 Axes>"
      ]
     },
     "metadata": {},
     "output_type": "display_data"
    }
   ],
   "source": [
    "plt.figure(figsize=(8,4))\n",
    "sns.scatterplot(x='primary_fuel',y='generation_gwh_2013',data=df)"
   ]
  },
  {
   "cell_type": "markdown",
   "id": "513e7920",
   "metadata": {},
   "source": [
    "-> We can here the coal is most used fuel in 2013 and Nuclear,Gas and hydro on average use and Solar,Wind Bomass nad oil was very less used"
   ]
  },
  {
   "cell_type": "code",
   "execution_count": 38,
   "id": "8ee713ed",
   "metadata": {},
   "outputs": [
    {
     "data": {
      "text/plain": [
       "<AxesSubplot:xlabel='primary_fuel', ylabel='generation_gwh_2014'>"
      ]
     },
     "execution_count": 38,
     "metadata": {},
     "output_type": "execute_result"
    },
    {
     "data": {
      "image/png": "[encoded data removed]",
      "text/plain": [
       "<Figure size 576x288 with 1 Axes>"
      ]
     },
     "metadata": {},
     "output_type": "display_data"
    }
   ],
   "source": [
    "plt.figure(figsize=(8,4))\n",
    "sns.scatterplot(x='primary_fuel',y='generation_gwh_2014',data=df)"
   ]
  },
  {
   "cell_type": "code",
   "execution_count": 39,
   "id": "ef2c6d49",
   "metadata": {},
   "outputs": [
    {
     "data": {
      "text/plain": [
       "<AxesSubplot:xlabel='primary_fuel', ylabel='generation_gwh_2015'>"
      ]
     },
     "execution_count": 39,
     "metadata": {},
     "output_type": "execute_result"
    },
    {
     "data": {
      "image/png": "[encoded data removed]",
      "text/plain": [
       "<Figure size 576x288 with 1 Axes>"
      ]
     },
     "metadata": {},
     "output_type": "display_data"
    }
   ],
   "source": [
    "plt.figure(figsize=(8,4))\n",
    "sns.scatterplot(x='primary_fuel',y='generation_gwh_2015',data=df)"
   ]
  },
  {
   "cell_type": "code",
   "execution_count": 40,
   "id": "a589cb3c",
   "metadata": {},
   "outputs": [
    {
     "data": {
      "text/plain": [
       "<AxesSubplot:xlabel='primary_fuel', ylabel='generation_gwh_2016'>"
      ]
     },
     "execution_count": 40,
     "metadata": {},
     "output_type": "execute_result"
    },
    {
     "data": {
      "image/png": "[encoded data removed]",
      "text/plain": [
       "<Figure size 576x288 with 1 Axes>"
      ]
     },
     "metadata": {},
     "output_type": "display_data"
    }
   ],
   "source": [
    "plt.figure(figsize=(8,4))\n",
    "sns.scatterplot(x='primary_fuel',y='generation_gwh_2016',data=df)"
   ]
  },
  {
   "cell_type": "code",
   "execution_count": 41,
   "id": "cdaec077",
   "metadata": {},
   "outputs": [
    {
     "data": {
      "text/plain": [
       "<AxesSubplot:xlabel='primary_fuel', ylabel='generation_gwh_2017'>"
      ]
     },
     "execution_count": 41,
     "metadata": {},
     "output_type": "execute_result"
    },
    {
     "data": {
      "image/png": "[encoded data removed]",
      "text/plain": [
       "<Figure size 576x288 with 1 Axes>"
      ]
     },
     "metadata": {},
     "output_type": "display_data"
    }
   ],
   "source": [
    "plt.figure(figsize=(8,4))\n",
    "sns.scatterplot(x='primary_fuel',y='generation_gwh_2017',data=df)"
   ]
  },
  {
   "cell_type": "markdown",
   "id": "cfdd6062",
   "metadata": {},
   "source": [
    "In all of the year 2013 to 2017 the coal is most used fuel in 2013 and Nuclear,Gas and hydro on average use and Solar,Wind Bomass nad oil was very less used"
   ]
  },
  {
   "cell_type": "code",
   "execution_count": 42,
   "id": "5e3f3ed0",
   "metadata": {},
   "outputs": [
    {
     "data": {
      "text/plain": [
       "<AxesSubplot:xlabel='primary_fuel', ylabel='latitude'>"
      ]
     },
     "execution_count": 42,
     "metadata": {},
     "output_type": "execute_result"
    },
    {
     "data": {
      "image/png": "[encoded data removed]",
      "text/plain": [
       "<Figure size 576x288 with 1 Axes>"
      ]
     },
     "metadata": {},
     "output_type": "display_data"
    }
   ],
   "source": [
    "plt.figure(figsize=(8,4))\n",
    "sns.scatterplot(x='primary_fuel',y='latitude',data=df)"
   ]
  },
  {
   "cell_type": "code",
   "execution_count": 43,
   "id": "6e5ffcdc",
   "metadata": {},
   "outputs": [
    {
     "data": {
      "text/plain": [
       "<AxesSubplot:xlabel='capacity_mw', ylabel='primary_fuel'>"
      ]
     },
     "execution_count": 43,
     "metadata": {},
     "output_type": "execute_result"
    },
    {
     "data": {
      "image/png": "[encoded data removed]",
      "text/plain": [
       "<Figure size 576x288 with 1 Axes>"
      ]
     },
     "metadata": {},
     "output_type": "display_data"
    }
   ],
   "source": [
    "plt.figure(figsize=(8,4))\n",
    "sns.scatterplot(x='capacity_mw',y='primary_fuel',data=df)"
   ]
  },
  {
   "cell_type": "markdown",
   "id": "dee36fa7",
   "metadata": {},
   "source": [
    "Coal is on Max Electrical generating capacity in Megawatts"
   ]
  },
  {
   "cell_type": "markdown",
   "id": "4e6f660c",
   "metadata": {},
   "source": [
    "# Using LabelEncoder for convering Categorical to Numerical"
   ]
  },
  {
   "cell_type": "code",
   "execution_count": 44,
   "id": "8801c029",
   "metadata": {},
   "outputs": [
    {
     "name": "stdout",
     "output_type": "stream",
     "text": [
      "<class 'pandas.core.frame.DataFrame'>\n",
      "RangeIndex: 908 entries, 0 to 907\n",
      "Data columns (total 12 columns):\n",
      " #   Column               Non-Null Count  Dtype  \n",
      "---  ------               --------------  -----  \n",
      " 0   capacity_mw          908 non-null    float64\n",
      " 1   latitude             908 non-null    float64\n",
      " 2   longitude            908 non-null    float64\n",
      " 3   primary_fuel         908 non-null    object \n",
      " 4   commissioning_year   908 non-null    float64\n",
      " 5   source               908 non-null    object \n",
      " 6   geolocation_source   908 non-null    object \n",
      " 7   generation_gwh_2013  908 non-null    float64\n",
      " 8   generation_gwh_2014  908 non-null    float64\n",
      " 9   generation_gwh_2015  908 non-null    float64\n",
      " 10  generation_gwh_2016  908 non-null    float64\n",
      " 11  generation_gwh_2017  908 non-null    float64\n",
      "dtypes: float64(9), object(3)\n",
      "memory usage: 85.2+ KB\n"
     ]
    }
   ],
   "source": [
    "df.info()"
   ]
  },
  {
   "cell_type": "code",
   "execution_count": 45,
   "id": "38d79658",
   "metadata": {},
   "outputs": [
    {
     "data": {
      "text/plain": [
       "array(['Solar', 'Coal', 'Wind', 'Gas', 'Hydro', 'Biomass', 'Oil',\n",
       "       'Nuclear'], dtype=object)"
      ]
     },
     "execution_count": 45,
     "metadata": {},
     "output_type": "execute_result"
    }
   ],
   "source": [
    "df['primary_fuel'].unique()"
   ]
  },
  {
   "cell_type": "code",
   "execution_count": 46,
   "id": "c2dcbc58",
   "metadata": {},
   "outputs": [
    {
     "data": {
      "text/plain": [
       "array(['National Renewable Energy Laboratory', 'WRI', 'Industry About'],\n",
       "      dtype=object)"
      ]
     },
     "execution_count": 46,
     "metadata": {},
     "output_type": "execute_result"
    }
   ],
   "source": [
    "df['geolocation_source'].unique()"
   ]
  },
  {
   "cell_type": "code",
   "execution_count": 47,
   "id": "72bd6637",
   "metadata": {},
   "outputs": [],
   "source": [
    "encoder = LabelEncoder()\n",
    "df['primary_fuel'] = encoder.fit_transform(df['primary_fuel'])\n",
    "df['geolocation_source'] = encoder.fit_transform(df['geolocation_source'])\n",
    "df['source'] = encoder.fit_transform(df['source'])"
   ]
  },
  {
   "cell_type": "code",
   "execution_count": 48,
   "id": "b8fc5dd2",
   "metadata": {},
   "outputs": [
    {
     "data": {
      "text/plain": [
       "array([1, 2, 0])"
      ]
     },
     "execution_count": 48,
     "metadata": {},
     "output_type": "execute_result"
    }
   ],
   "source": [
    "df['geolocation_source'].unique()"
   ]
  },
  {
   "cell_type": "code",
   "execution_count": 49,
   "id": "1867662e",
   "metadata": {},
   "outputs": [
    {
     "name": "stdout",
     "output_type": "stream",
     "text": [
      "<class 'pandas.core.frame.DataFrame'>\n",
      "RangeIndex: 908 entries, 0 to 907\n",
      "Data columns (total 12 columns):\n",
      " #   Column               Non-Null Count  Dtype  \n",
      "---  ------               --------------  -----  \n",
      " 0   capacity_mw          908 non-null    float64\n",
      " 1   latitude             908 non-null    float64\n",
      " 2   longitude            908 non-null    float64\n",
      " 3   primary_fuel         908 non-null    int32  \n",
      " 4   commissioning_year   908 non-null    float64\n",
      " 5   source               908 non-null    int32  \n",
      " 6   geolocation_source   908 non-null    int32  \n",
      " 7   generation_gwh_2013  908 non-null    float64\n",
      " 8   generation_gwh_2014  908 non-null    float64\n",
      " 9   generation_gwh_2015  908 non-null    float64\n",
      " 10  generation_gwh_2016  908 non-null    float64\n",
      " 11  generation_gwh_2017  908 non-null    float64\n",
      "dtypes: float64(9), int32(3)\n",
      "memory usage: 74.6 KB\n"
     ]
    }
   ],
   "source": [
    "df.info()"
   ]
  },
  {
   "cell_type": "markdown",
   "id": "a47dcb7e",
   "metadata": {},
   "source": [
    "# Outliers Removal"
   ]
  },
  {
   "cell_type": "markdown",
   "id": "d0b5accc",
   "metadata": {},
   "source": [
    "# zscore"
   ]
  },
  {
   "cell_type": "code",
   "execution_count": 50,
   "id": "378e8253",
   "metadata": {},
   "outputs": [
    {
     "name": "stdout",
     "output_type": "stream",
     "text": [
      "(array([ 15,  15,  15,  15, 144, 144, 144, 144, 144, 144, 159, 159, 210,\n",
      "       210, 210, 210, 210, 210, 309, 309, 309, 309, 309, 309, 364, 365,\n",
      "       365, 365, 365, 365, 365, 376, 483, 494, 494, 494, 494, 494, 494,\n",
      "       495, 495, 495, 495, 495, 495, 533, 533, 624, 649, 649, 649, 649,\n",
      "       649, 649, 658, 658, 658, 658, 658, 658, 696, 696, 696, 696, 696,\n",
      "       722, 722, 722, 722, 722, 725, 725, 725, 725, 725, 727, 727, 727,\n",
      "       727, 727, 727, 787, 787, 787, 787, 787, 787, 789, 809, 809, 809,\n",
      "       809, 809, 809, 881, 881, 881, 881, 881, 881], dtype=int64), array([2, 3, 4, 5, 0, 1, 2, 3, 4, 5, 0, 1, 0, 1, 2, 3, 4, 5, 0, 1, 2, 3,\n",
      "       4, 5, 5, 0, 1, 2, 3, 4, 5, 5, 5, 0, 1, 2, 3, 4, 5, 0, 1, 2, 3, 4,\n",
      "       5, 0, 1, 1, 0, 1, 2, 3, 4, 5, 0, 1, 2, 3, 4, 5, 1, 2, 3, 4, 5, 0,\n",
      "       1, 2, 3, 4, 0, 1, 2, 3, 4, 0, 1, 2, 3, 4, 5, 0, 1, 2, 3, 4, 5, 5,\n",
      "       0, 1, 2, 3, 4, 5, 0, 1, 2, 3, 4, 5], dtype=int64))\n"
     ]
    }
   ],
   "source": [
    "z=np.abs(zscore(df[['generation_gwh_2013','generation_gwh_2014','generation_gwh_2015','generation_gwh_2016','generation_gwh_2017','capacity_mw']]))\n",
    "print(np.where(z>3))"
   ]
  },
  {
   "cell_type": "code",
   "execution_count": 51,
   "id": "2b68bcfd",
   "metadata": {},
   "outputs": [
    {
     "name": "stdout",
     "output_type": "stream",
     "text": [
      "Shape of the dataframe before removing outliers:  (908, 12)\n",
      "Shape of the dataframe after removing outliers:  (885, 12)\n",
      "Percentage of data loss post outlier removal:  2.5330396475770924\n"
     ]
    }
   ],
   "source": [
    "z = np.abs(zscore(df[['generation_gwh_2013','generation_gwh_2014','generation_gwh_2015','generation_gwh_2016','generation_gwh_2017','capacity_mw']]))\n",
    "threshold = 3\n",
    "df1 = df[(z<3).all(axis = 1)]\n",
    "\n",
    "print (\"Shape of the dataframe before removing outliers: \", df.shape)\n",
    "print (\"Shape of the dataframe after removing outliers: \", df1.shape)\n",
    "print (\"Percentage of data loss post outlier removal: \", (df.shape[0]-df1.shape[0])/df.shape[0]*100)"
   ]
  },
  {
   "cell_type": "code",
   "execution_count": 52,
   "id": "2b68232b",
   "metadata": {},
   "outputs": [],
   "source": [
    " # reassigning the changed dataframe name to our original dataframe name\n",
    "df=df1.copy()"
   ]
  },
  {
   "cell_type": "code",
   "execution_count": 53,
   "id": "8d58d175",
   "metadata": {},
   "outputs": [
    {
     "data": {
      "text/plain": [
       "(885, 12)"
      ]
     },
     "execution_count": 53,
     "metadata": {},
     "output_type": "execute_result"
    }
   ],
   "source": [
    "df.shape"
   ]
  },
  {
   "cell_type": "markdown",
   "id": "65526c71",
   "metadata": {},
   "source": [
    "# Skewness Handling"
   ]
  },
  {
   "cell_type": "code",
   "execution_count": 54,
   "id": "6e5ad46c",
   "metadata": {},
   "outputs": [
    {
     "name": "stderr",
     "output_type": "stream",
     "text": [
      "E:\\Anaconda\\lib\\site-packages\\seaborn\\distributions.py:2557: FutureWarning: `distplot` is a deprecated function and will be removed in a future version. Please adapt your code to use either `displot` (a figure-level function with similar flexibility) or `histplot` (an axes-level function for histograms).\n",
      "  warnings.warn(msg, FutureWarning)\n",
      "E:\\Anaconda\\lib\\site-packages\\seaborn\\distributions.py:2557: FutureWarning: `distplot` is a deprecated function and will be removed in a future version. Please adapt your code to use either `displot` (a figure-level function with similar flexibility) or `histplot` (an axes-level function for histograms).\n",
      "  warnings.warn(msg, FutureWarning)\n",
      "E:\\Anaconda\\lib\\site-packages\\seaborn\\distributions.py:2557: FutureWarning: `distplot` is a deprecated function and will be removed in a future version. Please adapt your code to use either `displot` (a figure-level function with similar flexibility) or `histplot` (an axes-level function for histograms).\n",
      "  warnings.warn(msg, FutureWarning)\n",
      "E:\\Anaconda\\lib\\site-packages\\seaborn\\distributions.py:2557: FutureWarning: `distplot` is a deprecated function and will be removed in a future version. Please adapt your code to use either `displot` (a figure-level function with similar flexibility) or `histplot` (an axes-level function for histograms).\n",
      "  warnings.warn(msg, FutureWarning)\n",
      "E:\\Anaconda\\lib\\site-packages\\seaborn\\distributions.py:2557: FutureWarning: `distplot` is a deprecated function and will be removed in a future version. Please adapt your code to use either `displot` (a figure-level function with similar flexibility) or `histplot` (an axes-level function for histograms).\n",
      "  warnings.warn(msg, FutureWarning)\n",
      "E:\\Anaconda\\lib\\site-packages\\seaborn\\distributions.py:2557: FutureWarning: `distplot` is a deprecated function and will be removed in a future version. Please adapt your code to use either `displot` (a figure-level function with similar flexibility) or `histplot` (an axes-level function for histograms).\n",
      "  warnings.warn(msg, FutureWarning)\n",
      "E:\\Anaconda\\lib\\site-packages\\seaborn\\distributions.py:2557: FutureWarning: `distplot` is a deprecated function and will be removed in a future version. Please adapt your code to use either `displot` (a figure-level function with similar flexibility) or `histplot` (an axes-level function for histograms).\n",
      "  warnings.warn(msg, FutureWarning)\n",
      "E:\\Anaconda\\lib\\site-packages\\seaborn\\distributions.py:2557: FutureWarning: `distplot` is a deprecated function and will be removed in a future version. Please adapt your code to use either `displot` (a figure-level function with similar flexibility) or `histplot` (an axes-level function for histograms).\n",
      "  warnings.warn(msg, FutureWarning)\n",
      "E:\\Anaconda\\lib\\site-packages\\seaborn\\distributions.py:2557: FutureWarning: `distplot` is a deprecated function and will be removed in a future version. Please adapt your code to use either `displot` (a figure-level function with similar flexibility) or `histplot` (an axes-level function for histograms).\n",
      "  warnings.warn(msg, FutureWarning)\n",
      "E:\\Anaconda\\lib\\site-packages\\seaborn\\distributions.py:2557: FutureWarning: `distplot` is a deprecated function and will be removed in a future version. Please adapt your code to use either `displot` (a figure-level function with similar flexibility) or `histplot` (an axes-level function for histograms).\n",
      "  warnings.warn(msg, FutureWarning)\n",
      "E:\\Anaconda\\lib\\site-packages\\seaborn\\distributions.py:2557: FutureWarning: `distplot` is a deprecated function and will be removed in a future version. Please adapt your code to use either `displot` (a figure-level function with similar flexibility) or `histplot` (an axes-level function for histograms).\n",
      "  warnings.warn(msg, FutureWarning)\n",
      "E:\\Anaconda\\lib\\site-packages\\seaborn\\distributions.py:2557: FutureWarning: `distplot` is a deprecated function and will be removed in a future version. Please adapt your code to use either `displot` (a figure-level function with similar flexibility) or `histplot` (an axes-level function for histograms).\n",
      "  warnings.warn(msg, FutureWarning)\n"
     ]
    },
    {
     "data": {
      "image/png": "[encoded data removed]",
      "text/plain": [
       "<Figure size 1296x1440 with 12 Axes>"
      ]
     },
     "metadata": {},
     "output_type": "display_data"
    }
   ],
   "source": [
    "plt.figure(figsize=(18,20))\n",
    "for i in enumerate(df):\n",
    "    plt.subplot(8,4,i[0]+1)\n",
    "    sns.distplot(df[i[1]],color='g')"
   ]
  },
  {
   "cell_type": "code",
   "execution_count": 55,
   "id": "907f8ca6",
   "metadata": {},
   "outputs": [
    {
     "data": {
      "text/plain": [
       "capacity_mw            2.052718\n",
       "latitude               1.965094\n",
       "longitude             -0.179399\n",
       "primary_fuel           0.430662\n",
       "commissioning_year    -0.285274\n",
       "source                 1.788010\n",
       "geolocation_source    -2.118329\n",
       "generation_gwh_2013    2.994575\n",
       "generation_gwh_2014    2.867788\n",
       "generation_gwh_2015    2.684811\n",
       "generation_gwh_2016    2.630710\n",
       "generation_gwh_2017    2.540274\n",
       "dtype: float64"
      ]
     },
     "execution_count": 55,
     "metadata": {},
     "output_type": "execute_result"
    }
   ],
   "source": [
    "df.skew()"
   ]
  },
  {
   "cell_type": "markdown",
   "id": "8e4f34a1",
   "metadata": {},
   "source": [
    "skewness more than+/- 0.5 will we treated\n",
    "\n",
    "\n",
    "\n",
    "\n",
    "\n",
    "object columns will no be treated"
   ]
  },
  {
   "cell_type": "code",
   "execution_count": 59,
   "id": "7e7d8cb9",
   "metadata": {},
   "outputs": [
    {
     "data": {
      "text/plain": [
       "capacity_mw           -0.024446\n",
       "latitude               1.965094\n",
       "longitude             -0.179399\n",
       "primary_fuel           0.430662\n",
       "commissioning_year    -0.285274\n",
       "source                 1.788010\n",
       "geolocation_source    -2.118329\n",
       "generation_gwh_2013   -0.333653\n",
       "generation_gwh_2014   -0.275178\n",
       "generation_gwh_2015   -0.258690\n",
       "generation_gwh_2016   -0.248297\n",
       "generation_gwh_2017   -0.229956\n",
       "dtype: float64"
      ]
     },
     "execution_count": 59,
     "metadata": {},
     "output_type": "execute_result"
    }
   ],
   "source": [
    "df[['capacity_mw',\"generation_gwh_2013\",'generation_gwh_2014','generation_gwh_2015','generation_gwh_2016','generation_gwh_2017']]=power_transform(df[['capacity_mw',\"generation_gwh_2013\",'generation_gwh_2014','generation_gwh_2015','generation_gwh_2016','generation_gwh_2017']])\n",
    "df.skew()"
   ]
  },
  {
   "cell_type": "markdown",
   "id": "3ea5d52f",
   "metadata": {},
   "source": [
    "First taking 'capacity_mw' as target creating Regression model"
   ]
  },
  {
   "cell_type": "markdown",
   "id": "fc240083",
   "metadata": {},
   "source": [
    "# Dividing Data into X and Y"
   ]
  },
  {
   "cell_type": "code",
   "execution_count": 60,
   "id": "05fcd048",
   "metadata": {},
   "outputs": [],
   "source": [
    "x=df.drop(['capacity_mw'],axis=1)\n",
    "y=df['capacity_mw']"
   ]
  },
  {
   "cell_type": "code",
   "execution_count": 61,
   "id": "d7333000",
   "metadata": {},
   "outputs": [
    {
     "data": {
      "text/plain": [
       "(885, 11)"
      ]
     },
     "execution_count": 61,
     "metadata": {},
     "output_type": "execute_result"
    }
   ],
   "source": [
    "x.shape"
   ]
  },
  {
   "cell_type": "code",
   "execution_count": 62,
   "id": "2e3983b3",
   "metadata": {},
   "outputs": [
    {
     "data": {
      "text/plain": [
       "(885,)"
      ]
     },
     "execution_count": 62,
     "metadata": {},
     "output_type": "execute_result"
    }
   ],
   "source": [
    "y.shape"
   ]
  },
  {
   "cell_type": "markdown",
   "id": "44eb9ebc",
   "metadata": {},
   "source": [
    "# Scaling X values"
   ]
  },
  {
   "cell_type": "code",
   "execution_count": 65,
   "id": "135ca0ca",
   "metadata": {},
   "outputs": [
    {
     "data": {
      "text/plain": [
       "0     0\n",
       "1     0\n",
       "2     0\n",
       "3     0\n",
       "4     0\n",
       "5     0\n",
       "6     0\n",
       "7     0\n",
       "8     0\n",
       "9     0\n",
       "10    0\n",
       "dtype: int64"
      ]
     },
     "execution_count": 65,
     "metadata": {},
     "output_type": "execute_result"
    }
   ],
   "source": [
    "sc=MinMaxScaler()\n",
    "x=sc.fit_transform(x)\n",
    "pd.DataFrame(x).isnull().sum()"
   ]
  },
  {
   "cell_type": "code",
   "execution_count": 66,
   "id": "c41fb97e",
   "metadata": {},
   "outputs": [
    {
     "data": {
      "text/html": [
       "<div>\n",
       "<style scoped>\n",
       "    .dataframe tbody tr th:only-of-type {\n",
       "        vertical-align: middle;\n",
       "    }\n",
       "\n",
       "    .dataframe tbody tr th {\n",
       "        vertical-align: top;\n",
       "    }\n",
       "\n",
       "    .dataframe thead th {\n",
       "        text-align: right;\n",
       "    }\n",
       "</style>\n",
       "<table border=\"1\" class=\"dataframe\">\n",
       "  <thead>\n",
       "    <tr style=\"text-align: right;\">\n",
       "      <th></th>\n",
       "      <th>0</th>\n",
       "      <th>1</th>\n",
       "      <th>2</th>\n",
       "      <th>3</th>\n",
       "      <th>4</th>\n",
       "      <th>5</th>\n",
       "      <th>6</th>\n",
       "      <th>7</th>\n",
       "      <th>8</th>\n",
       "      <th>9</th>\n",
       "      <th>10</th>\n",
       "    </tr>\n",
       "  </thead>\n",
       "  <tbody>\n",
       "    <tr>\n",
       "      <th>count</th>\n",
       "      <td>885.000000</td>\n",
       "      <td>885.000000</td>\n",
       "      <td>885.000000</td>\n",
       "      <td>885.000000</td>\n",
       "      <td>885.000000</td>\n",
       "      <td>885.000000</td>\n",
       "      <td>885.000000</td>\n",
       "      <td>885.000000</td>\n",
       "      <td>885.000000</td>\n",
       "      <td>885.000000</td>\n",
       "      <td>885.000000</td>\n",
       "    </tr>\n",
       "    <tr>\n",
       "      <th>mean</th>\n",
       "      <td>0.290048</td>\n",
       "      <td>0.464901</td>\n",
       "      <td>0.466182</td>\n",
       "      <td>0.564383</td>\n",
       "      <td>0.233637</td>\n",
       "      <td>0.863277</td>\n",
       "      <td>0.620486</td>\n",
       "      <td>0.595989</td>\n",
       "      <td>0.595707</td>\n",
       "      <td>0.593126</td>\n",
       "      <td>0.590408</td>\n",
       "    </tr>\n",
       "    <tr>\n",
       "      <th>std</th>\n",
       "      <td>0.204202</td>\n",
       "      <td>0.173085</td>\n",
       "      <td>0.326078</td>\n",
       "      <td>0.489898</td>\n",
       "      <td>0.237158</td>\n",
       "      <td>0.342100</td>\n",
       "      <td>0.179336</td>\n",
       "      <td>0.193143</td>\n",
       "      <td>0.196778</td>\n",
       "      <td>0.199455</td>\n",
       "      <td>0.206856</td>\n",
       "    </tr>\n",
       "    <tr>\n",
       "      <th>min</th>\n",
       "      <td>0.000000</td>\n",
       "      <td>0.000000</td>\n",
       "      <td>0.000000</td>\n",
       "      <td>0.000000</td>\n",
       "      <td>0.000000</td>\n",
       "      <td>0.000000</td>\n",
       "      <td>0.000000</td>\n",
       "      <td>0.000000</td>\n",
       "      <td>0.000000</td>\n",
       "      <td>0.000000</td>\n",
       "      <td>0.000000</td>\n",
       "    </tr>\n",
       "    <tr>\n",
       "      <th>25%</th>\n",
       "      <td>0.169119</td>\n",
       "      <td>0.388333</td>\n",
       "      <td>0.142857</td>\n",
       "      <td>0.000000</td>\n",
       "      <td>0.115789</td>\n",
       "      <td>1.000000</td>\n",
       "      <td>0.539975</td>\n",
       "      <td>0.511500</td>\n",
       "      <td>0.509888</td>\n",
       "      <td>0.502913</td>\n",
       "      <td>0.496622</td>\n",
       "    </tr>\n",
       "    <tr>\n",
       "      <th>50%</th>\n",
       "      <td>0.269591</td>\n",
       "      <td>0.463212</td>\n",
       "      <td>0.428571</td>\n",
       "      <td>0.978039</td>\n",
       "      <td>0.115789</td>\n",
       "      <td>1.000000</td>\n",
       "      <td>0.539975</td>\n",
       "      <td>0.511500</td>\n",
       "      <td>0.509888</td>\n",
       "      <td>0.502913</td>\n",
       "      <td>0.496622</td>\n",
       "    </tr>\n",
       "    <tr>\n",
       "      <th>75%</th>\n",
       "      <td>0.359508</td>\n",
       "      <td>0.539802</td>\n",
       "      <td>0.857143</td>\n",
       "      <td>0.991828</td>\n",
       "      <td>0.184211</td>\n",
       "      <td>1.000000</td>\n",
       "      <td>0.739237</td>\n",
       "      <td>0.728194</td>\n",
       "      <td>0.730465</td>\n",
       "      <td>0.727195</td>\n",
       "      <td>0.729361</td>\n",
       "    </tr>\n",
       "    <tr>\n",
       "      <th>max</th>\n",
       "      <td>1.000000</td>\n",
       "      <td>1.000000</td>\n",
       "      <td>1.000000</td>\n",
       "      <td>1.000000</td>\n",
       "      <td>1.000000</td>\n",
       "      <td>1.000000</td>\n",
       "      <td>1.000000</td>\n",
       "      <td>1.000000</td>\n",
       "      <td>1.000000</td>\n",
       "      <td>1.000000</td>\n",
       "      <td>1.000000</td>\n",
       "    </tr>\n",
       "  </tbody>\n",
       "</table>\n",
       "</div>"
      ],
      "text/plain": [
       "               0           1           2           3           4           5   \\\n",
       "count  885.000000  885.000000  885.000000  885.000000  885.000000  885.000000   \n",
       "mean     0.290048    0.464901    0.466182    0.564383    0.233637    0.863277   \n",
       "std      0.204202    0.173085    0.326078    0.489898    0.237158    0.342100   \n",
       "min      0.000000    0.000000    0.000000    0.000000    0.000000    0.000000   \n",
       "25%      0.169119    0.388333    0.142857    0.000000    0.115789    1.000000   \n",
       "50%      0.269591    0.463212    0.428571    0.978039    0.115789    1.000000   \n",
       "75%      0.359508    0.539802    0.857143    0.991828    0.184211    1.000000   \n",
       "max      1.000000    1.000000    1.000000    1.000000    1.000000    1.000000   \n",
       "\n",
       "               6           7           8           9           10  \n",
       "count  885.000000  885.000000  885.000000  885.000000  885.000000  \n",
       "mean     0.620486    0.595989    0.595707    0.593126    0.590408  \n",
       "std      0.179336    0.193143    0.196778    0.199455    0.206856  \n",
       "min      0.000000    0.000000    0.000000    0.000000    0.000000  \n",
       "25%      0.539975    0.511500    0.509888    0.502913    0.496622  \n",
       "50%      0.539975    0.511500    0.509888    0.502913    0.496622  \n",
       "75%      0.739237    0.728194    0.730465    0.727195    0.729361  \n",
       "max      1.000000    1.000000    1.000000    1.000000    1.000000  "
      ]
     },
     "execution_count": 66,
     "metadata": {},
     "output_type": "execute_result"
    }
   ],
   "source": [
    "pd.DataFrame(x).describe()"
   ]
  },
  {
   "cell_type": "code",
   "execution_count": 67,
   "id": "72d6f216",
   "metadata": {},
   "outputs": [
    {
     "data": {
      "text/html": [
       "<div>\n",
       "<style scoped>\n",
       "    .dataframe tbody tr th:only-of-type {\n",
       "        vertical-align: middle;\n",
       "    }\n",
       "\n",
       "    .dataframe tbody tr th {\n",
       "        vertical-align: top;\n",
       "    }\n",
       "\n",
       "    .dataframe thead th {\n",
       "        text-align: right;\n",
       "    }\n",
       "</style>\n",
       "<table border=\"1\" class=\"dataframe\">\n",
       "  <thead>\n",
       "    <tr style=\"text-align: right;\">\n",
       "      <th></th>\n",
       "      <th>count</th>\n",
       "      <th>mean</th>\n",
       "      <th>std</th>\n",
       "      <th>min</th>\n",
       "      <th>25%</th>\n",
       "      <th>50%</th>\n",
       "      <th>75%</th>\n",
       "      <th>max</th>\n",
       "    </tr>\n",
       "  </thead>\n",
       "  <tbody>\n",
       "    <tr>\n",
       "      <th>0</th>\n",
       "      <td>885.0</td>\n",
       "      <td>0.290048</td>\n",
       "      <td>0.204202</td>\n",
       "      <td>0.0</td>\n",
       "      <td>0.169119</td>\n",
       "      <td>0.269591</td>\n",
       "      <td>0.359508</td>\n",
       "      <td>1.0</td>\n",
       "    </tr>\n",
       "    <tr>\n",
       "      <th>1</th>\n",
       "      <td>885.0</td>\n",
       "      <td>0.464901</td>\n",
       "      <td>0.173085</td>\n",
       "      <td>0.0</td>\n",
       "      <td>0.388333</td>\n",
       "      <td>0.463212</td>\n",
       "      <td>0.539802</td>\n",
       "      <td>1.0</td>\n",
       "    </tr>\n",
       "    <tr>\n",
       "      <th>2</th>\n",
       "      <td>885.0</td>\n",
       "      <td>0.466182</td>\n",
       "      <td>0.326078</td>\n",
       "      <td>0.0</td>\n",
       "      <td>0.142857</td>\n",
       "      <td>0.428571</td>\n",
       "      <td>0.857143</td>\n",
       "      <td>1.0</td>\n",
       "    </tr>\n",
       "    <tr>\n",
       "      <th>3</th>\n",
       "      <td>885.0</td>\n",
       "      <td>0.564383</td>\n",
       "      <td>0.489898</td>\n",
       "      <td>0.0</td>\n",
       "      <td>0.000000</td>\n",
       "      <td>0.978039</td>\n",
       "      <td>0.991828</td>\n",
       "      <td>1.0</td>\n",
       "    </tr>\n",
       "    <tr>\n",
       "      <th>4</th>\n",
       "      <td>885.0</td>\n",
       "      <td>0.233637</td>\n",
       "      <td>0.237158</td>\n",
       "      <td>0.0</td>\n",
       "      <td>0.115789</td>\n",
       "      <td>0.115789</td>\n",
       "      <td>0.184211</td>\n",
       "      <td>1.0</td>\n",
       "    </tr>\n",
       "    <tr>\n",
       "      <th>5</th>\n",
       "      <td>885.0</td>\n",
       "      <td>0.863277</td>\n",
       "      <td>0.342100</td>\n",
       "      <td>0.0</td>\n",
       "      <td>1.000000</td>\n",
       "      <td>1.000000</td>\n",
       "      <td>1.000000</td>\n",
       "      <td>1.0</td>\n",
       "    </tr>\n",
       "    <tr>\n",
       "      <th>6</th>\n",
       "      <td>885.0</td>\n",
       "      <td>0.620486</td>\n",
       "      <td>0.179336</td>\n",
       "      <td>0.0</td>\n",
       "      <td>0.539975</td>\n",
       "      <td>0.539975</td>\n",
       "      <td>0.739237</td>\n",
       "      <td>1.0</td>\n",
       "    </tr>\n",
       "    <tr>\n",
       "      <th>7</th>\n",
       "      <td>885.0</td>\n",
       "      <td>0.595989</td>\n",
       "      <td>0.193143</td>\n",
       "      <td>0.0</td>\n",
       "      <td>0.511500</td>\n",
       "      <td>0.511500</td>\n",
       "      <td>0.728194</td>\n",
       "      <td>1.0</td>\n",
       "    </tr>\n",
       "    <tr>\n",
       "      <th>8</th>\n",
       "      <td>885.0</td>\n",
       "      <td>0.595707</td>\n",
       "      <td>0.196778</td>\n",
       "      <td>0.0</td>\n",
       "      <td>0.509888</td>\n",
       "      <td>0.509888</td>\n",
       "      <td>0.730465</td>\n",
       "      <td>1.0</td>\n",
       "    </tr>\n",
       "    <tr>\n",
       "      <th>9</th>\n",
       "      <td>885.0</td>\n",
       "      <td>0.593126</td>\n",
       "      <td>0.199455</td>\n",
       "      <td>0.0</td>\n",
       "      <td>0.502913</td>\n",
       "      <td>0.502913</td>\n",
       "      <td>0.727195</td>\n",
       "      <td>1.0</td>\n",
       "    </tr>\n",
       "    <tr>\n",
       "      <th>10</th>\n",
       "      <td>885.0</td>\n",
       "      <td>0.590408</td>\n",
       "      <td>0.206856</td>\n",
       "      <td>0.0</td>\n",
       "      <td>0.496622</td>\n",
       "      <td>0.496622</td>\n",
       "      <td>0.729361</td>\n",
       "      <td>1.0</td>\n",
       "    </tr>\n",
       "  </tbody>\n",
       "</table>\n",
       "</div>"
      ],
      "text/plain": [
       "    count      mean       std  min       25%       50%       75%  max\n",
       "0   885.0  0.290048  0.204202  0.0  0.169119  0.269591  0.359508  1.0\n",
       "1   885.0  0.464901  0.173085  0.0  0.388333  0.463212  0.539802  1.0\n",
       "2   885.0  0.466182  0.326078  0.0  0.142857  0.428571  0.857143  1.0\n",
       "3   885.0  0.564383  0.489898  0.0  0.000000  0.978039  0.991828  1.0\n",
       "4   885.0  0.233637  0.237158  0.0  0.115789  0.115789  0.184211  1.0\n",
       "5   885.0  0.863277  0.342100  0.0  1.000000  1.000000  1.000000  1.0\n",
       "6   885.0  0.620486  0.179336  0.0  0.539975  0.539975  0.739237  1.0\n",
       "7   885.0  0.595989  0.193143  0.0  0.511500  0.511500  0.728194  1.0\n",
       "8   885.0  0.595707  0.196778  0.0  0.509888  0.509888  0.730465  1.0\n",
       "9   885.0  0.593126  0.199455  0.0  0.502913  0.502913  0.727195  1.0\n",
       "10  885.0  0.590408  0.206856  0.0  0.496622  0.496622  0.729361  1.0"
      ]
     },
     "execution_count": 67,
     "metadata": {},
     "output_type": "execute_result"
    }
   ],
   "source": [
    "pd.DataFrame(x).describe().T"
   ]
  },
  {
   "cell_type": "markdown",
   "id": "6eab29fd",
   "metadata": {},
   "source": [
    "Data have been scalled\n"
   ]
  },
  {
   "cell_type": "markdown",
   "id": "ec26d128",
   "metadata": {},
   "source": [
    "# MODEL BUILDING:"
   ]
  },
  {
   "cell_type": "markdown",
   "id": "9f173fe6",
   "metadata": {},
   "source": [
    "# Linear Regression"
   ]
  },
  {
   "cell_type": "markdown",
   "id": "9d0b4efc",
   "metadata": {},
   "source": [
    "CHECKING THE BEST RANDOM STATE FOR DATA SPLIT"
   ]
  },
  {
   "cell_type": "code",
   "execution_count": 69,
   "id": "67ca95e0",
   "metadata": {},
   "outputs": [
    {
     "name": "stdout",
     "output_type": "stream",
     "text": [
      "At random state 0, The training accuracy is: 0.5916398460767198\n",
      "At random state 0, The test accuracy is: 0.6067472744040956\n",
      "\n",
      "\n",
      "At random state 1, The training accuracy is: 0.595831264906934\n",
      "At random state 1, The test accuracy is: 0.5902792362368616\n",
      "\n",
      "\n",
      "At random state 2, The training accuracy is: 0.6230851576998857\n",
      "At random state 2, The test accuracy is: 0.455309680801268\n",
      "\n",
      "\n",
      "At random state 3, The training accuracy is: 0.5993958141620693\n",
      "At random state 3, The test accuracy is: 0.5741639350532954\n",
      "\n",
      "\n",
      "At random state 4, The training accuracy is: 0.5966348616332771\n",
      "At random state 4, The test accuracy is: 0.5821800069532042\n",
      "\n",
      "\n",
      "At random state 5, The training accuracy is: 0.6084656248534466\n",
      "At random state 5, The test accuracy is: 0.5282793360143401\n",
      "\n",
      "\n",
      "At random state 6, The training accuracy is: 0.6052198009357237\n",
      "At random state 6, The test accuracy is: 0.5323798619335085\n",
      "\n",
      "\n",
      "At random state 7, The training accuracy is: 0.6043699400184532\n",
      "At random state 7, The test accuracy is: 0.541506589331199\n",
      "\n",
      "\n",
      "At random state 8, The training accuracy is: 0.5959932692562488\n",
      "At random state 8, The test accuracy is: 0.5891638827600649\n",
      "\n",
      "\n",
      "At random state 9, The training accuracy is: 0.5716912682500467\n",
      "At random state 9, The test accuracy is: 0.6808840600657489\n",
      "\n",
      "\n",
      "At random state 10, The training accuracy is: 0.6039163739200175\n",
      "At random state 10, The test accuracy is: 0.5528153766010665\n",
      "\n",
      "\n",
      "At random state 11, The training accuracy is: 0.5965792865589824\n",
      "At random state 11, The test accuracy is: 0.5889765624971476\n",
      "\n",
      "\n",
      "At random state 12, The training accuracy is: 0.5968703993573827\n",
      "At random state 12, The test accuracy is: 0.5780658808776564\n",
      "\n",
      "\n",
      "At random state 13, The training accuracy is: 0.5901915856611039\n",
      "At random state 13, The test accuracy is: 0.6054319712716307\n",
      "\n",
      "\n",
      "At random state 14, The training accuracy is: 0.5846278828842613\n",
      "At random state 14, The test accuracy is: 0.6332909818099669\n",
      "\n",
      "\n",
      "At random state 15, The training accuracy is: 0.6139450841402647\n",
      "At random state 15, The test accuracy is: 0.5150119419937162\n",
      "\n",
      "\n",
      "At random state 16, The training accuracy is: 0.5920313702329691\n",
      "At random state 16, The test accuracy is: 0.6025429873176145\n",
      "\n",
      "\n",
      "At random state 17, The training accuracy is: 0.5813094636646426\n",
      "At random state 17, The test accuracy is: 0.6404024882511958\n",
      "\n",
      "\n",
      "At random state 18, The training accuracy is: 0.6109724125367775\n",
      "At random state 18, The test accuracy is: 0.5242871331158219\n",
      "\n",
      "\n",
      "At random state 19, The training accuracy is: 0.6001018924233483\n",
      "At random state 19, The test accuracy is: 0.5742631228110268\n",
      "\n",
      "\n",
      "At random state 20, The training accuracy is: 0.6077214310277868\n",
      "At random state 20, The test accuracy is: 0.5244687922518918\n",
      "\n",
      "\n",
      "At random state 21, The training accuracy is: 0.583000647011064\n",
      "At random state 21, The test accuracy is: 0.6158363688120392\n",
      "\n",
      "\n",
      "At random state 22, The training accuracy is: 0.618332348858925\n",
      "At random state 22, The test accuracy is: 0.48597511023862106\n",
      "\n",
      "\n",
      "At random state 23, The training accuracy is: 0.590170420208179\n",
      "At random state 23, The test accuracy is: 0.605503871887136\n",
      "\n",
      "\n",
      "At random state 24, The training accuracy is: 0.6122776574611795\n",
      "At random state 24, The test accuracy is: 0.49946588140934567\n",
      "\n",
      "\n",
      "At random state 25, The training accuracy is: 0.5962096704983586\n",
      "At random state 25, The test accuracy is: 0.5805300972033456\n",
      "\n",
      "\n",
      "At random state 26, The training accuracy is: 0.6036792738143204\n",
      "At random state 26, The test accuracy is: 0.5475212980688682\n",
      "\n",
      "\n",
      "At random state 27, The training accuracy is: 0.5951861022928027\n",
      "At random state 27, The test accuracy is: 0.5921311279863339\n",
      "\n",
      "\n",
      "At random state 28, The training accuracy is: 0.6129413336227614\n",
      "At random state 28, The test accuracy is: 0.505144870345726\n",
      "\n",
      "\n",
      "At random state 29, The training accuracy is: 0.5911305170012673\n",
      "At random state 29, The test accuracy is: 0.595264934609874\n",
      "\n",
      "\n",
      "At random state 30, The training accuracy is: 0.600228886190484\n",
      "At random state 30, The test accuracy is: 0.5693168508387758\n",
      "\n",
      "\n",
      "At random state 31, The training accuracy is: 0.5972038147018889\n",
      "At random state 31, The test accuracy is: 0.5775783900670741\n",
      "\n",
      "\n",
      "At random state 32, The training accuracy is: 0.6025157303770833\n",
      "At random state 32, The test accuracy is: 0.55418491445401\n",
      "\n",
      "\n",
      "At random state 33, The training accuracy is: 0.5811312434988202\n",
      "At random state 33, The test accuracy is: 0.6351410543825303\n",
      "\n",
      "\n",
      "At random state 34, The training accuracy is: 0.5907667663373068\n",
      "At random state 34, The test accuracy is: 0.603995277928614\n",
      "\n",
      "\n",
      "At random state 35, The training accuracy is: 0.5883787188893425\n",
      "At random state 35, The test accuracy is: 0.6198974840928054\n",
      "\n",
      "\n",
      "At random state 36, The training accuracy is: 0.585021087786199\n",
      "At random state 36, The test accuracy is: 0.6296397361366497\n",
      "\n",
      "\n",
      "At random state 37, The training accuracy is: 0.5903414213175975\n",
      "At random state 37, The test accuracy is: 0.6125602599236561\n",
      "\n",
      "\n",
      "At random state 38, The training accuracy is: 0.6060451746685953\n",
      "At random state 38, The test accuracy is: 0.5181599183135635\n",
      "\n",
      "\n",
      "At random state 39, The training accuracy is: 0.5922078523940579\n",
      "At random state 39, The test accuracy is: 0.6019309866286859\n",
      "\n",
      "\n",
      "At random state 40, The training accuracy is: 0.6010154882843117\n",
      "At random state 40, The test accuracy is: 0.5672624595690312\n",
      "\n",
      "\n",
      "At random state 41, The training accuracy is: 0.604025666864499\n",
      "At random state 41, The test accuracy is: 0.5490766001945317\n",
      "\n",
      "\n",
      "At random state 42, The training accuracy is: 0.5879793340052228\n",
      "At random state 42, The test accuracy is: 0.6202536374169869\n",
      "\n",
      "\n",
      "At random state 43, The training accuracy is: 0.5913256362117283\n",
      "At random state 43, The test accuracy is: 0.6059089055579214\n",
      "\n",
      "\n",
      "At random state 44, The training accuracy is: 0.6017247074599328\n",
      "At random state 44, The test accuracy is: 0.5599767663299923\n",
      "\n",
      "\n",
      "At random state 45, The training accuracy is: 0.5972313457552101\n",
      "At random state 45, The test accuracy is: 0.5834331908068306\n",
      "\n",
      "\n",
      "At random state 46, The training accuracy is: 0.6119390855134816\n",
      "At random state 46, The test accuracy is: 0.5085842234921949\n",
      "\n",
      "\n",
      "At random state 47, The training accuracy is: 0.6124181683020118\n",
      "At random state 47, The test accuracy is: 0.49513180370808973\n",
      "\n",
      "\n",
      "At random state 48, The training accuracy is: 0.601964542413853\n",
      "At random state 48, The test accuracy is: 0.5601892594096194\n",
      "\n",
      "\n",
      "At random state 49, The training accuracy is: 0.6196131245918796\n",
      "At random state 49, The test accuracy is: 0.4869856482888719\n",
      "\n",
      "\n",
      "At random state 50, The training accuracy is: 0.6229251936942742\n",
      "At random state 50, The test accuracy is: 0.4779149133116911\n",
      "\n",
      "\n",
      "At random state 51, The training accuracy is: 0.6170819168098203\n",
      "At random state 51, The test accuracy is: 0.5102424756315871\n",
      "\n",
      "\n",
      "At random state 52, The training accuracy is: 0.5907079867487026\n",
      "At random state 52, The test accuracy is: 0.6075256748174082\n",
      "\n",
      "\n",
      "At random state 53, The training accuracy is: 0.5758044999802554\n",
      "At random state 53, The test accuracy is: 0.6459373859006963\n",
      "\n",
      "\n",
      "At random state 54, The training accuracy is: 0.6193649376195656\n",
      "At random state 54, The test accuracy is: 0.4945639768141803\n",
      "\n",
      "\n",
      "At random state 55, The training accuracy is: 0.5893653977283227\n",
      "At random state 55, The test accuracy is: 0.6096937305237197\n",
      "\n",
      "\n",
      "At random state 56, The training accuracy is: 0.5925800480933129\n",
      "At random state 56, The test accuracy is: 0.6023532780048573\n",
      "\n",
      "\n",
      "At random state 57, The training accuracy is: 0.5946292125888677\n",
      "At random state 57, The test accuracy is: 0.5902400672343564\n",
      "\n",
      "\n",
      "At random state 58, The training accuracy is: 0.5721337732562031\n",
      "At random state 58, The test accuracy is: 0.6777690182912206\n",
      "\n",
      "\n",
      "At random state 59, The training accuracy is: 0.6056394235933974\n",
      "At random state 59, The test accuracy is: 0.5566525003496815\n",
      "\n",
      "\n",
      "At random state 60, The training accuracy is: 0.5784120193547262\n",
      "At random state 60, The test accuracy is: 0.6581485379988108\n",
      "\n",
      "\n",
      "At random state 61, The training accuracy is: 0.5790374368957809\n",
      "At random state 61, The test accuracy is: 0.6543734356357405\n",
      "\n",
      "\n",
      "At random state 62, The training accuracy is: 0.5904564450123833\n",
      "At random state 62, The test accuracy is: 0.606961298590802\n",
      "\n",
      "\n",
      "At random state 63, The training accuracy is: 0.5900663271856952\n",
      "At random state 63, The test accuracy is: 0.5932802020435799\n",
      "\n",
      "\n",
      "At random state 64, The training accuracy is: 0.6082058618118706\n",
      "At random state 64, The test accuracy is: 0.527317327550938\n",
      "\n",
      "\n",
      "At random state 65, The training accuracy is: 0.602275676316916\n",
      "At random state 65, The test accuracy is: 0.5593961326423416\n",
      "\n",
      "\n",
      "At random state 66, The training accuracy is: 0.6148545658509758\n",
      "At random state 66, The test accuracy is: 0.5087477548568671\n",
      "\n",
      "\n",
      "At random state 67, The training accuracy is: 0.5757647913318802\n",
      "At random state 67, The test accuracy is: 0.6624631694585255\n",
      "\n",
      "\n",
      "At random state 68, The training accuracy is: 0.5861649576369485\n",
      "At random state 68, The test accuracy is: 0.6237298308614683\n",
      "\n",
      "\n",
      "At random state 69, The training accuracy is: 0.5868301279759525\n",
      "At random state 69, The test accuracy is: 0.608596990977979\n",
      "\n",
      "\n",
      "At random state 70, The training accuracy is: 0.6000188510016878\n",
      "At random state 70, The test accuracy is: 0.5737094002357024\n",
      "\n",
      "\n",
      "At random state 71, The training accuracy is: 0.5759534620445962\n",
      "At random state 71, The test accuracy is: 0.6601740956113232\n",
      "\n",
      "\n",
      "At random state 72, The training accuracy is: 0.5989212414190113\n",
      "At random state 72, The test accuracy is: 0.5767328110622685\n",
      "\n",
      "\n",
      "At random state 73, The training accuracy is: 0.5809251004345815\n",
      "At random state 73, The test accuracy is: 0.6382555972746071\n",
      "\n",
      "\n",
      "At random state 74, The training accuracy is: 0.6076173437902957\n",
      "At random state 74, The test accuracy is: 0.515672198943856\n",
      "\n",
      "\n",
      "At random state 75, The training accuracy is: 0.6100308921134492\n",
      "At random state 75, The test accuracy is: 0.5287857834380718\n",
      "\n",
      "\n",
      "At random state 76, The training accuracy is: 0.6127565880531889\n",
      "At random state 76, The test accuracy is: 0.516116125887984\n",
      "\n",
      "\n",
      "At random state 77, The training accuracy is: 0.5979360963835\n",
      "At random state 77, The test accuracy is: 0.5703054913655496\n",
      "\n",
      "\n",
      "At random state 78, The training accuracy is: 0.5894699211386457\n",
      "At random state 78, The test accuracy is: 0.6122194478933995\n",
      "\n",
      "\n",
      "At random state 79, The training accuracy is: 0.6062300563085581\n",
      "At random state 79, The test accuracy is: 0.5424565177402414\n",
      "\n",
      "\n",
      "At random state 80, The training accuracy is: 0.6119863293253245\n",
      "At random state 80, The test accuracy is: 0.5032821580032028\n",
      "\n",
      "\n",
      "At random state 81, The training accuracy is: 0.5909638263296013\n",
      "At random state 81, The test accuracy is: 0.6025992615143837\n",
      "\n",
      "\n",
      "At random state 82, The training accuracy is: 0.6193150023295988\n",
      "At random state 82, The test accuracy is: 0.4640473021784719\n",
      "\n",
      "\n",
      "At random state 83, The training accuracy is: 0.5954729539129155\n",
      "At random state 83, The test accuracy is: 0.5918194505192675\n",
      "\n",
      "\n",
      "At random state 84, The training accuracy is: 0.5876665161415636\n",
      "At random state 84, The test accuracy is: 0.6133494225013434\n",
      "\n",
      "\n",
      "At random state 85, The training accuracy is: 0.6094680585387704\n",
      "At random state 85, The test accuracy is: 0.527578762009626\n",
      "\n",
      "\n",
      "At random state 86, The training accuracy is: 0.5853283932123312\n",
      "At random state 86, The test accuracy is: 0.6352121527535505\n",
      "\n",
      "\n",
      "At random state 87, The training accuracy is: 0.6146660084206126\n",
      "At random state 87, The test accuracy is: 0.49312959858047756\n",
      "\n",
      "\n",
      "At random state 88, The training accuracy is: 0.5985077206873698\n",
      "At random state 88, The test accuracy is: 0.5768852044928015\n",
      "\n",
      "\n",
      "At random state 89, The training accuracy is: 0.6008451130953165\n",
      "At random state 89, The test accuracy is: 0.5696651415586644\n",
      "\n",
      "\n",
      "At random state 90, The training accuracy is: 0.6050117639596306\n",
      "At random state 90, The test accuracy is: 0.5551628381666301\n",
      "\n",
      "\n",
      "At random state 91, The training accuracy is: 0.5886439121216458\n",
      "At random state 91, The test accuracy is: 0.6192313850102382\n",
      "\n",
      "\n",
      "At random state 92, The training accuracy is: 0.5964815686376093\n",
      "At random state 92, The test accuracy is: 0.5858378946550374\n",
      "\n",
      "\n",
      "At random state 93, The training accuracy is: 0.6216317008501548\n",
      "At random state 93, The test accuracy is: 0.47243024553047475\n",
      "\n",
      "\n",
      "At random state 94, The training accuracy is: 0.5864324725979126\n",
      "At random state 94, The test accuracy is: 0.6249551549058068\n",
      "\n",
      "\n",
      "At random state 95, The training accuracy is: 0.57861846380365\n",
      "At random state 95, The test accuracy is: 0.6521044077134186\n",
      "\n",
      "\n",
      "At random state 96, The training accuracy is: 0.6160334695597667\n",
      "At random state 96, The test accuracy is: 0.49728219654249184\n",
      "\n",
      "\n",
      "At random state 97, The training accuracy is: 0.577390529561473\n",
      "At random state 97, The test accuracy is: 0.6569666116156184\n",
      "\n",
      "\n",
      "At random state 98, The training accuracy is: 0.571146805813183\n",
      "At random state 98, The test accuracy is: 0.6797832846067735\n",
      "\n",
      "\n",
      "At random state 99, The training accuracy is: 0.598517139427527\n",
      "At random state 99, The test accuracy is: 0.5712792108060716\n",
      "\n",
      "\n"
     ]
    }
   ],
   "source": [
    "LR=LinearRegression()\n",
    "\n",
    "for i in range(0,100):\n",
    "    x_train,x_test,y_train,y_test=train_test_split(x,y,test_size=0.2,random_state=i)\n",
    "    LR.fit(x_train,y_train)\n",
    "    LR_predict_train=LR.predict(x_train)\n",
    "    LR_predict_test=LR.predict(x_test)\n",
    "    print(f'At random state {i}, The training accuracy is: {r2_score(y_train,LR_predict_train)}')\n",
    "    print(f'At random state {i}, The test accuracy is: {r2_score(y_test,LR_predict_test)}')\n",
    "    print('\\n')"
   ]
  },
  {
   "cell_type": "markdown",
   "id": "72391197",
   "metadata": {},
   "source": [
    "random state=95 giving highest accuracy, choosing that as random state"
   ]
  },
  {
   "cell_type": "markdown",
   "id": "16356371",
   "metadata": {},
   "source": [
    "# SPLITTING THE DATA WITH RANDOM STATE =95"
   ]
  },
  {
   "cell_type": "markdown",
   "id": "5b5bd789",
   "metadata": {},
   "source": [
    "Splitting the data into 73% training and 27% testing"
   ]
  },
  {
   "cell_type": "code",
   "execution_count": 72,
   "id": "bcac6203",
   "metadata": {},
   "outputs": [],
   "source": [
    "x_train,x_test,y_train,y_test=train_test_split(x,y,test_size=0.27,random_state=95)"
   ]
  },
  {
   "cell_type": "code",
   "execution_count": 73,
   "id": "37354447",
   "metadata": {},
   "outputs": [
    {
     "data": {
      "text/plain": [
       "(646, 11)"
      ]
     },
     "execution_count": 73,
     "metadata": {},
     "output_type": "execute_result"
    }
   ],
   "source": [
    "x_train.shape"
   ]
  },
  {
   "cell_type": "code",
   "execution_count": 74,
   "id": "9b433caa",
   "metadata": {},
   "outputs": [
    {
     "data": {
      "text/plain": [
       "(239, 11)"
      ]
     },
     "execution_count": 74,
     "metadata": {},
     "output_type": "execute_result"
    }
   ],
   "source": [
    "x_test.shape"
   ]
  },
  {
   "cell_type": "code",
   "execution_count": 75,
   "id": "ec7efa2b",
   "metadata": {},
   "outputs": [
    {
     "data": {
      "text/plain": [
       "(646,)"
      ]
     },
     "execution_count": 75,
     "metadata": {},
     "output_type": "execute_result"
    }
   ],
   "source": [
    "y_train.shape"
   ]
  },
  {
   "cell_type": "code",
   "execution_count": 76,
   "id": "51ba15a7",
   "metadata": {},
   "outputs": [
    {
     "data": {
      "text/plain": [
       "(239,)"
      ]
     },
     "execution_count": 76,
     "metadata": {},
     "output_type": "execute_result"
    }
   ],
   "source": [
    "y_test.shape"
   ]
  },
  {
   "cell_type": "code",
   "execution_count": 77,
   "id": "c6a25396",
   "metadata": {},
   "outputs": [
    {
     "name": "stdout",
     "output_type": "stream",
     "text": [
      "0.574144636759164\n"
     ]
    }
   ],
   "source": [
    "LR=LinearRegression()\n",
    "LR.fit(x_train,y_train)\n",
    "print(LR.score(x_train,y_train))\n",
    "LR_predict=LR.predict(x_test)"
   ]
  },
  {
   "cell_type": "code",
   "execution_count": 78,
   "id": "8290f046",
   "metadata": {},
   "outputs": [
    {
     "name": "stdout",
     "output_type": "stream",
     "text": [
      "MSE: 0.3799030465481559\n",
      "MAE: 0.49338832599457755\n",
      "r2_score: 0.32973084853724277\n"
     ]
    }
   ],
   "source": [
    "print('MSE:',mean_squared_error(LR_predict,y_test))\n",
    "print('MAE:',mean_absolute_error(LR_predict,y_test))\n",
    "print('r2_score:',r2_score(LR_predict,y_test))"
   ]
  },
  {
   "cell_type": "markdown",
   "id": "56c3a373",
   "metadata": {},
   "source": [
    "# Ridge"
   ]
  },
  {
   "cell_type": "code",
   "execution_count": 80,
   "id": "9890f25e",
   "metadata": {},
   "outputs": [
    {
     "name": "stdout",
     "output_type": "stream",
     "text": [
      "0.5740353226550512\n"
     ]
    }
   ],
   "source": [
    "R=Ridge()\n",
    "R.fit(x_train,y_train)\n",
    "print(R.score(x_train,y_train))\n",
    "R_predict=R.predict(x_test)"
   ]
  },
  {
   "cell_type": "code",
   "execution_count": 81,
   "id": "d85be787",
   "metadata": {},
   "outputs": [
    {
     "name": "stdout",
     "output_type": "stream",
     "text": [
      "MSE: 0.379740766250214\n",
      "MAE: 0.4944798563756653\n",
      "r2_score: 0.3215842068572923\n"
     ]
    }
   ],
   "source": [
    "print('MSE:',mean_squared_error(R_predict,y_test))\n",
    "print('MAE:',mean_absolute_error(R_predict,y_test))\n",
    "print('r2_score:',r2_score(R_predict,y_test))"
   ]
  },
  {
   "cell_type": "markdown",
   "id": "86f03948",
   "metadata": {},
   "source": [
    "# SVR"
   ]
  },
  {
   "cell_type": "markdown",
   "id": "939aa3dd",
   "metadata": {},
   "source": [
    "# SVR(kernel='linear')"
   ]
  },
  {
   "cell_type": "code",
   "execution_count": 83,
   "id": "5e1c3bad",
   "metadata": {},
   "outputs": [
    {
     "name": "stdout",
     "output_type": "stream",
     "text": [
      "0.5300836331191563\n"
     ]
    }
   ],
   "source": [
    "svr=SVR(kernel='linear')\n",
    "svr.fit(x_train,y_train)\n",
    "print(svr.score(x_train,y_train))\n",
    "svr_predict=svr.predict(x_test)"
   ]
  },
  {
   "cell_type": "code",
   "execution_count": 84,
   "id": "43a3ed8d",
   "metadata": {},
   "outputs": [
    {
     "name": "stdout",
     "output_type": "stream",
     "text": [
      "MSE: 0.40275697770638846\n",
      "MAE: 0.4515187073196309\n",
      "r2_score: 0.44806612987796723\n"
     ]
    }
   ],
   "source": [
    "print('MSE:',mean_squared_error(svr_predict,y_test))\n",
    "print('MAE:',mean_absolute_error(svr_predict,y_test))\n",
    "print('r2_score:',r2_score(svr_predict,y_test))"
   ]
  },
  {
   "cell_type": "markdown",
   "id": "39a2b25b",
   "metadata": {},
   "source": [
    "# SVR(kernel='poly')"
   ]
  },
  {
   "cell_type": "code",
   "execution_count": 85,
   "id": "dfa62797",
   "metadata": {},
   "outputs": [
    {
     "name": "stdout",
     "output_type": "stream",
     "text": [
      "0.7793971501061452\n"
     ]
    }
   ],
   "source": [
    "svr_p=SVR(kernel='poly')\n",
    "svr_p.fit(x_train,y_train)\n",
    "print(svr_p.score(x_train,y_train))\n",
    "svrpred_p=svr_p.predict(x_test)"
   ]
  },
  {
   "cell_type": "code",
   "execution_count": 86,
   "id": "6b4cef46",
   "metadata": {},
   "outputs": [
    {
     "name": "stdout",
     "output_type": "stream",
     "text": [
      "MSE: 0.2136110647630546\n",
      "MAE: 0.33326737997637473\n",
      "r2_score: 0.7454322133249576\n"
     ]
    }
   ],
   "source": [
    "print('MSE:',mean_squared_error(svrpred_p,y_test))\n",
    "print('MAE:',mean_absolute_error(svrpred_p,y_test))\n",
    "print('r2_score:',r2_score(svrpred_p,y_test))"
   ]
  },
  {
   "cell_type": "markdown",
   "id": "9c84f283",
   "metadata": {},
   "source": [
    "# (kernel='rbf')"
   ]
  },
  {
   "cell_type": "code",
   "execution_count": 87,
   "id": "d38253c2",
   "metadata": {},
   "outputs": [
    {
     "name": "stdout",
     "output_type": "stream",
     "text": [
      "0.7780889926197065\n"
     ]
    }
   ],
   "source": [
    "svr_r=SVR(kernel='rbf')\n",
    "svr_r.fit(x_train,y_train)\n",
    "print(svr_r.score(x_train,y_train))\n",
    "svrpred_r=svr_r.predict(x_test)"
   ]
  },
  {
   "cell_type": "code",
   "execution_count": 88,
   "id": "186f8188",
   "metadata": {},
   "outputs": [
    {
     "name": "stdout",
     "output_type": "stream",
     "text": [
      "MSE: 0.1934475481718264\n",
      "MAE: 0.32638525825326936\n",
      "r2_score: 0.7397709318620503\n"
     ]
    }
   ],
   "source": [
    "print('MSE:',mean_squared_error(svrpred_r,y_test))\n",
    "print('MAE:',mean_absolute_error(svrpred_r,y_test))\n",
    "print('r2_score:',r2_score(svrpred_r,y_test))"
   ]
  },
  {
   "cell_type": "markdown",
   "id": "32083b60",
   "metadata": {},
   "source": [
    "# RandomForestRegressor"
   ]
  },
  {
   "cell_type": "code",
   "execution_count": 90,
   "id": "4ad3d01e",
   "metadata": {},
   "outputs": [
    {
     "name": "stdout",
     "output_type": "stream",
     "text": [
      "0.9589101447820025\n"
     ]
    }
   ],
   "source": [
    "RF=RandomForestRegressor()\n",
    "RF.fit(x_train,y_train)\n",
    "print(RF.score(x_train,y_train))\n",
    "RF_PRED=RF.predict(x_test)"
   ]
  },
  {
   "cell_type": "code",
   "execution_count": 91,
   "id": "dacf7cfc",
   "metadata": {},
   "outputs": [
    {
     "name": "stdout",
     "output_type": "stream",
     "text": [
      "MSE: 0.14774664672224072\n",
      "MAE: 0.2787962181528813\n",
      "r2_score: 0.8177247364063447\n"
     ]
    }
   ],
   "source": [
    "print('MSE:',mean_squared_error(RF_PRED,y_test))\n",
    "print('MAE:',mean_absolute_error(RF_PRED,y_test))\n",
    "print('r2_score:',r2_score(RF_PRED,y_test))"
   ]
  },
  {
   "cell_type": "markdown",
   "id": "d7206215",
   "metadata": {},
   "source": [
    "# DecisionTreeRegressor"
   ]
  },
  {
   "cell_type": "code",
   "execution_count": 93,
   "id": "66193405",
   "metadata": {},
   "outputs": [
    {
     "name": "stdout",
     "output_type": "stream",
     "text": [
      "0.990345627951066\n"
     ]
    }
   ],
   "source": [
    "DTR=DecisionTreeRegressor()\n",
    "DTR.fit(x_train,y_train)\n",
    "print(DTR.score(x_train,y_train))\n",
    "DTR_PRED=DTR.predict(x_test)"
   ]
  },
  {
   "cell_type": "code",
   "execution_count": 94,
   "id": "e85e0d13",
   "metadata": {},
   "outputs": [
    {
     "name": "stdout",
     "output_type": "stream",
     "text": [
      "MSE: 0.24759156115135234\n",
      "MAE: 0.3534177531780716\n",
      "r2_score: 0.7494931343144411\n"
     ]
    }
   ],
   "source": [
    "print('MSE:',mean_squared_error(DTR_PRED,y_test))\n",
    "print('MAE:',mean_absolute_error(DTR_PRED,y_test))\n",
    "print('r2_score:',r2_score(DTR_PRED,y_test))"
   ]
  },
  {
   "cell_type": "markdown",
   "id": "b631b4a8",
   "metadata": {},
   "source": [
    "# GradientBoostingRegressor"
   ]
  },
  {
   "cell_type": "code",
   "execution_count": 96,
   "id": "0f1d3ca1",
   "metadata": {},
   "outputs": [
    {
     "name": "stdout",
     "output_type": "stream",
     "text": [
      "0.8777272596583524\n"
     ]
    }
   ],
   "source": [
    "GBR=GradientBoostingRegressor()\n",
    "GBR.fit(x_train,y_train)\n",
    "print(GBR.score(x_train,y_train))\n",
    "GBR_PRED=GBR.predict(x_test)"
   ]
  },
  {
   "cell_type": "code",
   "execution_count": 97,
   "id": "4833c327",
   "metadata": {},
   "outputs": [
    {
     "name": "stdout",
     "output_type": "stream",
     "text": [
      "MSE: 0.15970924481058094\n",
      "MAE: 0.2992520965615942\n",
      "r2_score: 0.800081498310272\n"
     ]
    }
   ],
   "source": [
    "print('MSE:',mean_squared_error(GBR_PRED,y_test))\n",
    "print('MAE:',mean_absolute_error(GBR_PRED,y_test))\n",
    "print('r2_score:',r2_score(GBR_PRED,y_test))"
   ]
  },
  {
   "cell_type": "markdown",
   "id": "ddeb5b99",
   "metadata": {},
   "source": [
    "# Cross Validation"
   ]
  },
  {
   "cell_type": "code",
   "execution_count": 98,
   "id": "7db6426a",
   "metadata": {},
   "outputs": [
    {
     "name": "stdout",
     "output_type": "stream",
     "text": [
      "LR    : 0.418087, 0.064830\n",
      "R    : 0.416718, 0.064420\n",
      "svr    : 0.464938, 0.079097\n",
      "svr_p    : 0.253838, 0.056293\n",
      "svr_r    : 0.234809, 0.066149\n",
      "RF    : 0.214386, 0.061669\n",
      "DTR    : 0.309817, 0.093271\n",
      "GBR    : 0.204574, 0.066203\n"
     ]
    }
   ],
   "source": [
    "np.random.seed(10)\n",
    "def rmse_cv(model, x,y):\n",
    "    rmse =- (cross_val_score(model, x,y, scoring='neg_mean_squared_error', cv=10))\n",
    "    return(rmse)\n",
    "\n",
    "\n",
    "models = [LinearRegression(),\n",
    "             Ridge(),\n",
    "             SVR(kernel='linear'),\n",
    "             SVR(kernel='poly'),\n",
    "             SVR(kernel='rbf'),\n",
    "             RandomForestRegressor(),\n",
    "             DecisionTreeRegressor(),  \n",
    "             GradientBoostingRegressor(),]\n",
    "            \n",
    "\n",
    "\n",
    "names = ['LR','R','svr','svr_p','svr_r','RF','DTR','GBR']\n",
    "\n",
    "for model,name in zip(models,names):\n",
    "    score = rmse_cv(model,x,y)\n",
    "    print(\"{}    : {:.6f}, {:4f}\".format(name,score.mean(),score.std()))"
   ]
  },
  {
   "cell_type": "markdown",
   "id": "9dfc8b26",
   "metadata": {},
   "source": [
    " -->Accourding to all metrics score selecting the GradientBoostingRegressoras for GridSeachCV"
   ]
  },
  {
   "cell_type": "markdown",
   "id": "8cbdcc49",
   "metadata": {},
   "source": [
    "# HYPER PARAMETER TUNING:"
   ]
  },
  {
   "cell_type": "markdown",
   "id": "6b6da3ed",
   "metadata": {},
   "source": [
    "GridSearchCV"
   ]
  },
  {
   "cell_type": "markdown",
   "id": "ae542bcd",
   "metadata": {},
   "source": [
    "# With GradientBoostingRegressor\n"
   ]
  },
  {
   "cell_type": "code",
   "execution_count": 100,
   "id": "230239fb",
   "metadata": {},
   "outputs": [],
   "source": [
    "GF=GradientBoostingRegressor()\n",
    "param={\n",
    "     'criterion':['mse','mae'],\n",
    "     'n_estimators':[100, 200],\n",
    "    }"
   ]
  },
  {
   "cell_type": "code",
   "execution_count": 101,
   "id": "7f2da4c0",
   "metadata": {},
   "outputs": [],
   "source": [
    "GF_grid=GridSearchCV(RandomForestRegressor(),param,cv=10,scoring='accuracy',n_jobs=-1,verbose=2)"
   ]
  },
  {
   "cell_type": "code",
   "execution_count": 102,
   "id": "08246962",
   "metadata": {},
   "outputs": [
    {
     "name": "stdout",
     "output_type": "stream",
     "text": [
      "Fitting 10 folds for each of 4 candidates, totalling 40 fits\n"
     ]
    },
    {
     "name": "stderr",
     "output_type": "stream",
     "text": [
      "E:\\Anaconda\\lib\\site-packages\\sklearn\\model_selection\\_search.py:918: UserWarning: One or more of the test scores are non-finite: [nan nan nan nan]\n",
      "  warnings.warn(\n"
     ]
    }
   ],
   "source": [
    "GF_grid.fit(x_train,y_train)\n",
    "GF_grid_pred=GF_grid.best_estimator_.predict(x_test)"
   ]
  },
  {
   "cell_type": "code",
   "execution_count": 103,
   "id": "4571317b",
   "metadata": {},
   "outputs": [
    {
     "data": {
      "text/plain": [
       "{'criterion': 'mse', 'n_estimators': 100}"
      ]
     },
     "execution_count": 103,
     "metadata": {},
     "output_type": "execute_result"
    }
   ],
   "source": [
    "GF_grid.best_params_"
   ]
  },
  {
   "cell_type": "code",
   "execution_count": 104,
   "id": "72c55327",
   "metadata": {},
   "outputs": [
    {
     "name": "stdout",
     "output_type": "stream",
     "text": [
      "MSE: 0.15088708860976066\n",
      "MAE: 0.28280070966031357\n",
      "r2_score: 0.8165927703090997\n"
     ]
    }
   ],
   "source": [
    "print('MSE:',mean_squared_error(GF_grid_pred,y_test))\n",
    "print('MAE:',mean_absolute_error(GF_grid_pred,y_test))\n",
    "print('r2_score:',r2_score(GF_grid_pred,y_test))"
   ]
  },
  {
   "cell_type": "code",
   "execution_count": 105,
   "id": "a77d6037",
   "metadata": {},
   "outputs": [
    {
     "name": "stderr",
     "output_type": "stream",
     "text": [
      "E:\\Anaconda\\lib\\site-packages\\seaborn\\distributions.py:2557: FutureWarning: `distplot` is a deprecated function and will be removed in a future version. Please adapt your code to use either `displot` (a figure-level function with similar flexibility) or `histplot` (an axes-level function for histograms).\n",
      "  warnings.warn(msg, FutureWarning)\n"
     ]
    },
    {
     "data": {
      "text/plain": [
       "<AxesSubplot:xlabel='capacity_mw', ylabel='Density'>"
      ]
     },
     "execution_count": 105,
     "metadata": {},
     "output_type": "execute_result"
    },
    {
     "data": {
      "image/png": "[encoded data removed]",
      "text/plain": [
       "<Figure size 432x288 with 1 Axes>"
      ]
     },
     "metadata": {
      "needs_background": "light"
     },
     "output_type": "display_data"
    }
   ],
   "source": [
    "sns.distplot(GF_grid_pred-y_test)"
   ]
  },
  {
   "cell_type": "code",
   "execution_count": 106,
   "id": "01375c0f",
   "metadata": {},
   "outputs": [
    {
     "data": {
      "text/plain": [
       "[<matplotlib.lines.Line2D at 0x23d17175b20>]"
      ]
     },
     "execution_count": 106,
     "metadata": {},
     "output_type": "execute_result"
    },
    {
     "data": {
      "image/png": "[encoded data removed]",
      "text/plain": [
       "<Figure size 432x288 with 1 Axes>"
      ]
     },
     "metadata": {
      "needs_background": "light"
     },
     "output_type": "display_data"
    }
   ],
   "source": [
    "plt.scatter(GF_grid_pred,y_test)\n",
    "plt.plot(y_test,y_test,linewidth=2,color='Red')"
   ]
  },
  {
   "cell_type": "markdown",
   "id": "c399b5da",
   "metadata": {},
   "source": [
    "# Choosing GradientBoostingRegressor as the best model"
   ]
  },
  {
   "cell_type": "markdown",
   "id": "0c8c4295",
   "metadata": {},
   "source": [
    "# TAKING 'primary_fuel' AS TARGET , CREATING CLASSIFICATION MODEL Dividing data into X and Y"
   ]
  },
  {
   "cell_type": "code",
   "execution_count": 109,
   "id": "eec97277",
   "metadata": {},
   "outputs": [],
   "source": [
    "x=df.drop(['primary_fuel'],axis=1)\n",
    "y=df['primary_fuel']"
   ]
  },
  {
   "cell_type": "code",
   "execution_count": 110,
   "id": "fb64a194",
   "metadata": {},
   "outputs": [
    {
     "data": {
      "text/plain": [
       "(885, 11)"
      ]
     },
     "execution_count": 110,
     "metadata": {},
     "output_type": "execute_result"
    }
   ],
   "source": [
    "x.shape"
   ]
  },
  {
   "cell_type": "code",
   "execution_count": 111,
   "id": "ee5be4f3",
   "metadata": {},
   "outputs": [
    {
     "data": {
      "text/plain": [
       "(885,)"
      ]
     },
     "execution_count": 111,
     "metadata": {},
     "output_type": "execute_result"
    }
   ],
   "source": [
    "y.shape"
   ]
  },
  {
   "cell_type": "markdown",
   "id": "75b7b61b",
   "metadata": {},
   "source": [
    "# Spliting Train and Test data"
   ]
  },
  {
   "cell_type": "code",
   "execution_count": 112,
   "id": "3002f943",
   "metadata": {},
   "outputs": [],
   "source": [
    "x_train,x_test,y_train,y_test=train_test_split(x,y,test_size=.27,random_state=42)"
   ]
  },
  {
   "cell_type": "code",
   "execution_count": 113,
   "id": "0fafd152",
   "metadata": {},
   "outputs": [
    {
     "data": {
      "text/plain": [
       "(646, 11)"
      ]
     },
     "execution_count": 113,
     "metadata": {},
     "output_type": "execute_result"
    }
   ],
   "source": [
    "x_train.shape"
   ]
  },
  {
   "cell_type": "code",
   "execution_count": 114,
   "id": "d58462df",
   "metadata": {},
   "outputs": [
    {
     "data": {
      "text/plain": [
       "(239, 11)"
      ]
     },
     "execution_count": 114,
     "metadata": {},
     "output_type": "execute_result"
    }
   ],
   "source": [
    "x_test.shape"
   ]
  },
  {
   "cell_type": "code",
   "execution_count": 115,
   "id": "bf504bc8",
   "metadata": {},
   "outputs": [
    {
     "data": {
      "text/plain": [
       "(646,)"
      ]
     },
     "execution_count": 115,
     "metadata": {},
     "output_type": "execute_result"
    }
   ],
   "source": [
    "y_train.shape"
   ]
  },
  {
   "cell_type": "code",
   "execution_count": 116,
   "id": "eb4f4364",
   "metadata": {},
   "outputs": [
    {
     "data": {
      "text/plain": [
       "(239,)"
      ]
     },
     "execution_count": 116,
     "metadata": {},
     "output_type": "execute_result"
    }
   ],
   "source": [
    "y_test.shape"
   ]
  },
  {
   "cell_type": "markdown",
   "id": "f251ae50",
   "metadata": {},
   "source": [
    "# MODEL BUILDING:"
   ]
  },
  {
   "cell_type": "code",
   "execution_count": 144,
   "id": "db3b3ac0",
   "metadata": {},
   "outputs": [],
   "source": [
    "#Importing necessary libraries\n",
    "\n",
    "from sklearn.linear_model import LogisticRegression\n",
    "\n",
    "from sklearn.svm import SVC\n",
    "from sklearn.tree import DecisionTreeClassifier\n",
    "from sklearn.neighbors import KNeighborsClassifier\n",
    "from sklearn.model_selection import train_test_split\n",
    "from sklearn.metrics import accuracy_score,confusion_matrix,classification_report\n",
    "from sklearn.ensemble import RandomForestClassifier\n",
    "from sklearn.ensemble import AdaBoostClassifier\n",
    "from sklearn.ensemble import BaggingClassifier\n",
    "from sklearn.ensemble import GradientBoostingClassifier\n",
    "from sklearn.model_selection import GridSearchCV\n",
    "from sklearn.metrics import precision_score\n",
    "from sklearn.metrics import recall_score\n",
    "from sklearn.metrics import f1_score\n",
    "from sklearn.metrics import roc_auc_score"
   ]
  },
  {
   "cell_type": "markdown",
   "id": "3288ba50",
   "metadata": {},
   "source": [
    "# LogisticRegression"
   ]
  },
  {
   "cell_type": "code",
   "execution_count": 117,
   "id": "d317a883",
   "metadata": {},
   "outputs": [
    {
     "name": "stderr",
     "output_type": "stream",
     "text": [
      "E:\\Anaconda\\lib\\site-packages\\sklearn\\linear_model\\_logistic.py:763: ConvergenceWarning: lbfgs failed to converge (status=1):\n",
      "STOP: TOTAL NO. of ITERATIONS REACHED LIMIT.\n",
      "\n",
      "Increase the number of iterations (max_iter) or scale the data as shown in:\n",
      "    https://scikit-learn.org/stable/modules/preprocessing.html\n",
      "Please also refer to the documentation for alternative solver options:\n",
      "    https://scikit-learn.org/stable/modules/linear_model.html#logistic-regression\n",
      "  n_iter_i = _check_optimize_result(\n",
      "E:\\Anaconda\\lib\\site-packages\\sklearn\\linear_model\\_logistic.py:763: ConvergenceWarning: lbfgs failed to converge (status=1):\n",
      "STOP: TOTAL NO. of ITERATIONS REACHED LIMIT.\n",
      "\n",
      "Increase the number of iterations (max_iter) or scale the data as shown in:\n",
      "    https://scikit-learn.org/stable/modules/preprocessing.html\n",
      "Please also refer to the documentation for alternative solver options:\n",
      "    https://scikit-learn.org/stable/modules/linear_model.html#logistic-regression\n",
      "  n_iter_i = _check_optimize_result(\n",
      "E:\\Anaconda\\lib\\site-packages\\sklearn\\linear_model\\_logistic.py:763: ConvergenceWarning: lbfgs failed to converge (status=1):\n",
      "STOP: TOTAL NO. of ITERATIONS REACHED LIMIT.\n",
      "\n",
      "Increase the number of iterations (max_iter) or scale the data as shown in:\n",
      "    https://scikit-learn.org/stable/modules/preprocessing.html\n",
      "Please also refer to the documentation for alternative solver options:\n",
      "    https://scikit-learn.org/stable/modules/linear_model.html#logistic-regression\n",
      "  n_iter_i = _check_optimize_result(\n",
      "E:\\Anaconda\\lib\\site-packages\\sklearn\\linear_model\\_logistic.py:763: ConvergenceWarning: lbfgs failed to converge (status=1):\n",
      "STOP: TOTAL NO. of ITERATIONS REACHED LIMIT.\n",
      "\n",
      "Increase the number of iterations (max_iter) or scale the data as shown in:\n",
      "    https://scikit-learn.org/stable/modules/preprocessing.html\n",
      "Please also refer to the documentation for alternative solver options:\n",
      "    https://scikit-learn.org/stable/modules/linear_model.html#logistic-regression\n",
      "  n_iter_i = _check_optimize_result(\n"
     ]
    },
    {
     "name": "stdout",
     "output_type": "stream",
     "text": [
      "cross validation score: 0.5288135593220339\n"
     ]
    },
    {
     "name": "stderr",
     "output_type": "stream",
     "text": [
      "E:\\Anaconda\\lib\\site-packages\\sklearn\\linear_model\\_logistic.py:763: ConvergenceWarning: lbfgs failed to converge (status=1):\n",
      "STOP: TOTAL NO. of ITERATIONS REACHED LIMIT.\n",
      "\n",
      "Increase the number of iterations (max_iter) or scale the data as shown in:\n",
      "    https://scikit-learn.org/stable/modules/preprocessing.html\n",
      "Please also refer to the documentation for alternative solver options:\n",
      "    https://scikit-learn.org/stable/modules/linear_model.html#logistic-regression\n",
      "  n_iter_i = _check_optimize_result(\n"
     ]
    }
   ],
   "source": [
    "logreg=LogisticRegression()\n",
    "logreg_score=cross_val_score(logreg,x,y,cv=5,scoring='accuracy')\n",
    "print(\"cross validation score:\",np.mean(logreg_score))"
   ]
  },
  {
   "cell_type": "code",
   "execution_count": 118,
   "id": "8b94a98d",
   "metadata": {},
   "outputs": [
    {
     "name": "stdout",
     "output_type": "stream",
     "text": [
      "0.5523012552301255\n",
      "[[ 0  3  0  0  0  0  8  1]\n",
      " [ 0  8  0 41  0  0 15  4]\n",
      " [ 0  2  0 14  0  0  2  1]\n",
      " [ 0  4  0 64  0  0  0  0]\n",
      " [ 0  0  0  2  0  0  0  0]\n",
      " [ 0  0  0  2  0  0  3  0]\n",
      " [ 0  2  0  0  0  0 25  3]\n",
      " [ 0  0  0  0  0  0  0 35]]\n",
      "              precision    recall  f1-score   support\n",
      "\n",
      "           0       0.00      0.00      0.00        12\n",
      "           1       0.42      0.12      0.18        68\n",
      "           2       0.00      0.00      0.00        19\n",
      "           3       0.52      0.94      0.67        68\n",
      "           4       0.00      0.00      0.00         2\n",
      "           5       0.00      0.00      0.00         5\n",
      "           6       0.47      0.83      0.60        30\n",
      "           7       0.80      1.00      0.89        35\n",
      "\n",
      "    accuracy                           0.55       239\n",
      "   macro avg       0.28      0.36      0.29       239\n",
      "weighted avg       0.44      0.55      0.45       239\n",
      "\n",
      "Training accuracy:: 0.5325077399380805\n",
      "Test accuracy:: 0.5523012552301255\n"
     ]
    },
    {
     "name": "stderr",
     "output_type": "stream",
     "text": [
      "E:\\Anaconda\\lib\\site-packages\\sklearn\\linear_model\\_logistic.py:763: ConvergenceWarning: lbfgs failed to converge (status=1):\n",
      "STOP: TOTAL NO. of ITERATIONS REACHED LIMIT.\n",
      "\n",
      "Increase the number of iterations (max_iter) or scale the data as shown in:\n",
      "    https://scikit-learn.org/stable/modules/preprocessing.html\n",
      "Please also refer to the documentation for alternative solver options:\n",
      "    https://scikit-learn.org/stable/modules/linear_model.html#logistic-regression\n",
      "  n_iter_i = _check_optimize_result(\n",
      "E:\\Anaconda\\lib\\site-packages\\sklearn\\metrics\\_classification.py:1245: UndefinedMetricWarning: Precision and F-score are ill-defined and being set to 0.0 in labels with no predicted samples. Use `zero_division` parameter to control this behavior.\n",
      "  _warn_prf(average, modifier, msg_start, len(result))\n",
      "E:\\Anaconda\\lib\\site-packages\\sklearn\\metrics\\_classification.py:1245: UndefinedMetricWarning: Precision and F-score are ill-defined and being set to 0.0 in labels with no predicted samples. Use `zero_division` parameter to control this behavior.\n",
      "  _warn_prf(average, modifier, msg_start, len(result))\n",
      "E:\\Anaconda\\lib\\site-packages\\sklearn\\metrics\\_classification.py:1245: UndefinedMetricWarning: Precision and F-score are ill-defined and being set to 0.0 in labels with no predicted samples. Use `zero_division` parameter to control this behavior.\n",
      "  _warn_prf(average, modifier, msg_start, len(result))\n"
     ]
    }
   ],
   "source": [
    "logreg.fit(x_train,y_train)\n",
    "LR_predicted=logreg.predict(x_test)\n",
    "\n",
    "print(accuracy_score(y_test,LR_predicted))\n",
    "print(confusion_matrix(y_test,LR_predicted))\n",
    "print(classification_report(y_test,LR_predicted))\n",
    "print(\"Training accuracy::\",logreg.score(x_train,y_train))\n",
    "print(\"Test accuracy::\",logreg.score(x_test,y_test))"
   ]
  },
  {
   "cell_type": "markdown",
   "id": "f38593a0",
   "metadata": {},
   "source": [
    "# DECISION TREE CLASSIFIER"
   ]
  },
  {
   "cell_type": "code",
   "execution_count": 122,
   "id": "e5755185",
   "metadata": {},
   "outputs": [
    {
     "name": "stdout",
     "output_type": "stream",
     "text": [
      "cross validation score for svm: 0.7864406779661017\n"
     ]
    }
   ],
   "source": [
    "dtc=DecisionTreeClassifier()\n",
    "dtc_score=cross_val_score(dtc,x,y,cv=5,scoring='accuracy')\n",
    "print(\"cross validation score for svm:\",np.mean(dtc_score))"
   ]
  },
  {
   "cell_type": "code",
   "execution_count": 123,
   "id": "3c3c7f2e",
   "metadata": {},
   "outputs": [
    {
     "name": "stdout",
     "output_type": "stream",
     "text": [
      "0.803347280334728\n",
      "[[11  1  0  0  0  0  0  0]\n",
      " [ 1 50  8  5  1  3  0  0]\n",
      " [ 0  3  8  7  0  1  0  0]\n",
      " [ 0  8  3 57  0  0  0  0]\n",
      " [ 0  1  0  0  0  1  0  0]\n",
      " [ 0  1  2  0  0  2  0  0]\n",
      " [ 1  0  0  0  0  0 29  0]\n",
      " [ 0  0  0  0  0  0  0 35]]\n",
      "              precision    recall  f1-score   support\n",
      "\n",
      "           0       0.85      0.92      0.88        12\n",
      "           1       0.78      0.74      0.76        68\n",
      "           2       0.38      0.42      0.40        19\n",
      "           3       0.83      0.84      0.83        68\n",
      "           4       0.00      0.00      0.00         2\n",
      "           5       0.29      0.40      0.33         5\n",
      "           6       1.00      0.97      0.98        30\n",
      "           7       1.00      1.00      1.00        35\n",
      "\n",
      "    accuracy                           0.80       239\n",
      "   macro avg       0.64      0.66      0.65       239\n",
      "weighted avg       0.81      0.80      0.81       239\n",
      "\n",
      "Training accuracy:: 1.0\n",
      "Test accuracy:: 0.803347280334728\n"
     ]
    }
   ],
   "source": [
    "dtc.fit(x_train,y_train)\n",
    "predicted_dtc=dtc.predict(x_test)\n",
    "print(accuracy_score(y_test,predicted_dtc))\n",
    "print(confusion_matrix(y_test,predicted_dtc))\n",
    "print(classification_report(y_test,predicted_dtc))\n",
    "print(\"Training accuracy::\",dtc.score(x_train,y_train))\n",
    "print(\"Test accuracy::\",dtc.score(x_test,y_test))"
   ]
  },
  {
   "cell_type": "markdown",
   "id": "9293d431",
   "metadata": {},
   "source": [
    "# KNeighborsClassifier"
   ]
  },
  {
   "cell_type": "code",
   "execution_count": 124,
   "id": "bf609f37",
   "metadata": {},
   "outputs": [
    {
     "name": "stdout",
     "output_type": "stream",
     "text": [
      "cross validation score for knn: 0.7265536723163841\n"
     ]
    }
   ],
   "source": [
    "knn=KNeighborsClassifier()\n",
    "knn_score=cross_val_score(knn,x,y,cv=5,scoring='accuracy')\n",
    "print(\"cross validation score for knn:\",np.mean(knn_score))"
   ]
  },
  {
   "cell_type": "code",
   "execution_count": 125,
   "id": "eab0d1c9",
   "metadata": {},
   "outputs": [
    {
     "name": "stdout",
     "output_type": "stream",
     "text": [
      "0.7364016736401674\n",
      "[[ 8  2  1  0  0  0  1  0]\n",
      " [ 2 43  5 12  0  0  5  1]\n",
      " [ 1  8  5  4  0  0  0  1]\n",
      " [ 0  1  1 64  0  2  0  0]\n",
      " [ 0  0  1  1  0  0  0  0]\n",
      " [ 1  1  0  2  0  0  1  0]\n",
      " [ 5  3  0  0  0  0 21  1]\n",
      " [ 0  0  0  0  0  0  0 35]]\n",
      "              precision    recall  f1-score   support\n",
      "\n",
      "           0       0.47      0.67      0.55        12\n",
      "           1       0.74      0.63      0.68        68\n",
      "           2       0.38      0.26      0.31        19\n",
      "           3       0.77      0.94      0.85        68\n",
      "           4       0.00      0.00      0.00         2\n",
      "           5       0.00      0.00      0.00         5\n",
      "           6       0.75      0.70      0.72        30\n",
      "           7       0.92      1.00      0.96        35\n",
      "\n",
      "    accuracy                           0.74       239\n",
      "   macro avg       0.50      0.53      0.51       239\n",
      "weighted avg       0.71      0.74      0.72       239\n",
      "\n",
      "Training accuracy:: 0.8095975232198143\n",
      "Test accuracy:: 0.7364016736401674\n"
     ]
    },
    {
     "name": "stderr",
     "output_type": "stream",
     "text": [
      "E:\\Anaconda\\lib\\site-packages\\sklearn\\metrics\\_classification.py:1245: UndefinedMetricWarning: Precision and F-score are ill-defined and being set to 0.0 in labels with no predicted samples. Use `zero_division` parameter to control this behavior.\n",
      "  _warn_prf(average, modifier, msg_start, len(result))\n",
      "E:\\Anaconda\\lib\\site-packages\\sklearn\\metrics\\_classification.py:1245: UndefinedMetricWarning: Precision and F-score are ill-defined and being set to 0.0 in labels with no predicted samples. Use `zero_division` parameter to control this behavior.\n",
      "  _warn_prf(average, modifier, msg_start, len(result))\n",
      "E:\\Anaconda\\lib\\site-packages\\sklearn\\metrics\\_classification.py:1245: UndefinedMetricWarning: Precision and F-score are ill-defined and being set to 0.0 in labels with no predicted samples. Use `zero_division` parameter to control this behavior.\n",
      "  _warn_prf(average, modifier, msg_start, len(result))\n"
     ]
    }
   ],
   "source": [
    "knn.fit(x_train,y_train)\n",
    "predicted_knn=knn.predict(x_test)\n",
    "print(accuracy_score(y_test,predicted_knn))\n",
    "print(confusion_matrix(y_test,predicted_knn))\n",
    "print(classification_report(y_test,predicted_knn))\n",
    "print(\"Training accuracy::\",knn.score(x_train,y_train))\n",
    "print(\"Test accuracy::\",knn.score(x_test,y_test))"
   ]
  },
  {
   "cell_type": "markdown",
   "id": "684f4a5b",
   "metadata": {},
   "source": [
    "# RandomForestClassifier"
   ]
  },
  {
   "cell_type": "code",
   "execution_count": 126,
   "id": "e416d39a",
   "metadata": {},
   "outputs": [
    {
     "name": "stdout",
     "output_type": "stream",
     "text": [
      "cross validation score for rfc: 0.8474576271186441\n"
     ]
    }
   ],
   "source": [
    "rfc=RandomForestClassifier()\n",
    "rfc_score=cross_val_score(rfc,x,y,cv=5,scoring='accuracy')\n",
    "print(\"cross validation score for rfc:\",np.mean(rfc_score))"
   ]
  },
  {
   "cell_type": "code",
   "execution_count": 127,
   "id": "f0bf0056",
   "metadata": {},
   "outputs": [
    {
     "name": "stdout",
     "output_type": "stream",
     "text": [
      "0.8493723849372385\n",
      "[[11  1  0  0  0  0  0  0]\n",
      " [ 6 53  0  7  0  2  0  0]\n",
      " [ 0  5  6  6  0  2  0  0]\n",
      " [ 0  3  0 65  0  0  0  0]\n",
      " [ 0  1  0  0  0  1  0  0]\n",
      " [ 0  1  1  0  0  3  0  0]\n",
      " [ 0  0  0  0  0  0 30  0]\n",
      " [ 0  0  0  0  0  0  0 35]]\n",
      "              precision    recall  f1-score   support\n",
      "\n",
      "           0       0.65      0.92      0.76        12\n",
      "           1       0.83      0.78      0.80        68\n",
      "           2       0.86      0.32      0.46        19\n",
      "           3       0.83      0.96      0.89        68\n",
      "           4       0.00      0.00      0.00         2\n",
      "           5       0.38      0.60      0.46         5\n",
      "           6       1.00      1.00      1.00        30\n",
      "           7       1.00      1.00      1.00        35\n",
      "\n",
      "    accuracy                           0.85       239\n",
      "   macro avg       0.69      0.70      0.67       239\n",
      "weighted avg       0.85      0.85      0.84       239\n",
      "\n",
      "Training accuracy:: 1.0\n",
      "Test accuracy:: 0.8493723849372385\n"
     ]
    },
    {
     "name": "stderr",
     "output_type": "stream",
     "text": [
      "E:\\Anaconda\\lib\\site-packages\\sklearn\\metrics\\_classification.py:1245: UndefinedMetricWarning: Precision and F-score are ill-defined and being set to 0.0 in labels with no predicted samples. Use `zero_division` parameter to control this behavior.\n",
      "  _warn_prf(average, modifier, msg_start, len(result))\n",
      "E:\\Anaconda\\lib\\site-packages\\sklearn\\metrics\\_classification.py:1245: UndefinedMetricWarning: Precision and F-score are ill-defined and being set to 0.0 in labels with no predicted samples. Use `zero_division` parameter to control this behavior.\n",
      "  _warn_prf(average, modifier, msg_start, len(result))\n",
      "E:\\Anaconda\\lib\\site-packages\\sklearn\\metrics\\_classification.py:1245: UndefinedMetricWarning: Precision and F-score are ill-defined and being set to 0.0 in labels with no predicted samples. Use `zero_division` parameter to control this behavior.\n",
      "  _warn_prf(average, modifier, msg_start, len(result))\n"
     ]
    }
   ],
   "source": [
    "rfc.fit(x_train,y_train)\n",
    "predicted_rfc=rfc.predict(x_test)\n",
    "print(accuracy_score(y_test,predicted_rfc))\n",
    "print(confusion_matrix(y_test,predicted_rfc))\n",
    "print(classification_report(y_test,predicted_rfc))\n",
    "print(\"Training accuracy::\",rfc.score(x_train,y_train))\n",
    "print(\"Test accuracy::\",rfc.score(x_test,y_test))"
   ]
  },
  {
   "cell_type": "markdown",
   "id": "48559420",
   "metadata": {},
   "source": [
    "# ENSEMBLE TECHNIQUES\n"
   ]
  },
  {
   "cell_type": "markdown",
   "id": "3a1515dc",
   "metadata": {},
   "source": [
    "# 1. ADA BOOST CLASSIFIER"
   ]
  },
  {
   "cell_type": "code",
   "execution_count": 128,
   "id": "8239405a",
   "metadata": {},
   "outputs": [
    {
     "name": "stderr",
     "output_type": "stream",
     "text": [
      "E:\\Anaconda\\lib\\site-packages\\sklearn\\model_selection\\_split.py:666: UserWarning: The least populated class in y has only 9 members, which is less than n_splits=10.\n",
      "  warnings.warn((\"The least populated class in y has only %d\"\n"
     ]
    },
    {
     "name": "stdout",
     "output_type": "stream",
     "text": [
      "cross validation score for Ada boost: 0.5458503575076609\n"
     ]
    }
   ],
   "source": [
    "adb=AdaBoostClassifier()\n",
    "adb_score=cross_val_score(adb,x,y,cv=10,scoring='accuracy')\n",
    "print(\"cross validation score for Ada boost:\",np.mean(adb_score))"
   ]
  },
  {
   "cell_type": "code",
   "execution_count": 129,
   "id": "1f531693",
   "metadata": {},
   "outputs": [
    {
     "name": "stdout",
     "output_type": "stream",
     "text": [
      "0.41841004184100417\n",
      "[[ 0  0  0 12  0  0  0  0]\n",
      " [ 0  3  0 65  0  0  0  0]\n",
      " [ 0  0  0 19  0  0  0  0]\n",
      " [ 0  0  0 68  0  0  0  0]\n",
      " [ 0  0  0  2  0  0  0  0]\n",
      " [ 0  0  0  5  0  0  0  0]\n",
      " [ 0  0  0  1  0  0 29  0]\n",
      " [ 0 35  0  0  0  0  0  0]]\n",
      "              precision    recall  f1-score   support\n",
      "\n",
      "           0       0.00      0.00      0.00        12\n",
      "           1       0.08      0.04      0.06        68\n",
      "           2       0.00      0.00      0.00        19\n",
      "           3       0.40      1.00      0.57        68\n",
      "           4       0.00      0.00      0.00         2\n",
      "           5       0.00      0.00      0.00         5\n",
      "           6       1.00      0.97      0.98        30\n",
      "           7       0.00      0.00      0.00        35\n",
      "\n",
      "    accuracy                           0.42       239\n",
      "   macro avg       0.18      0.25      0.20       239\n",
      "weighted avg       0.26      0.42      0.30       239\n",
      "\n",
      "Training accuracy:: 0.44272445820433437\n",
      "Test accuracy:: 0.41841004184100417\n"
     ]
    },
    {
     "name": "stderr",
     "output_type": "stream",
     "text": [
      "E:\\Anaconda\\lib\\site-packages\\sklearn\\metrics\\_classification.py:1245: UndefinedMetricWarning: Precision and F-score are ill-defined and being set to 0.0 in labels with no predicted samples. Use `zero_division` parameter to control this behavior.\n",
      "  _warn_prf(average, modifier, msg_start, len(result))\n",
      "E:\\Anaconda\\lib\\site-packages\\sklearn\\metrics\\_classification.py:1245: UndefinedMetricWarning: Precision and F-score are ill-defined and being set to 0.0 in labels with no predicted samples. Use `zero_division` parameter to control this behavior.\n",
      "  _warn_prf(average, modifier, msg_start, len(result))\n",
      "E:\\Anaconda\\lib\\site-packages\\sklearn\\metrics\\_classification.py:1245: UndefinedMetricWarning: Precision and F-score are ill-defined and being set to 0.0 in labels with no predicted samples. Use `zero_division` parameter to control this behavior.\n",
      "  _warn_prf(average, modifier, msg_start, len(result))\n"
     ]
    }
   ],
   "source": [
    "adb.fit(x_train,y_train)\n",
    "predicted_adb=adb.predict(x_test)\n",
    "print(accuracy_score(y_test,predicted_adb))\n",
    "print(confusion_matrix(y_test,predicted_adb))\n",
    "print(classification_report(y_test,predicted_adb))\n",
    "print(\"Training accuracy::\",adb.score(x_train,y_train))\n",
    "print(\"Test accuracy::\",adb.score(x_test,y_test))"
   ]
  },
  {
   "cell_type": "markdown",
   "id": "c7588031",
   "metadata": {},
   "source": [
    "# 2. BAGGING CLASSIFIER"
   ]
  },
  {
   "cell_type": "code",
   "execution_count": 130,
   "id": "e91f818a",
   "metadata": {},
   "outputs": [
    {
     "name": "stderr",
     "output_type": "stream",
     "text": [
      "E:\\Anaconda\\lib\\site-packages\\sklearn\\model_selection\\_split.py:666: UserWarning: The least populated class in y has only 9 members, which is less than n_splits=10.\n",
      "  warnings.warn((\"The least populated class in y has only %d\"\n"
     ]
    },
    {
     "name": "stdout",
     "output_type": "stream",
     "text": [
      "cross validation score for BAGGING Classifier: 0.8327247191011236\n"
     ]
    }
   ],
   "source": [
    "bgc=BaggingClassifier()\n",
    "bgc_score=cross_val_score(bgc,x,y,cv=10,scoring='accuracy')\n",
    "print(\"cross validation score for BAGGING Classifier:\",np.mean(bgc_score))"
   ]
  },
  {
   "cell_type": "code",
   "execution_count": 131,
   "id": "03e4a2aa",
   "metadata": {},
   "outputs": [
    {
     "name": "stdout",
     "output_type": "stream",
     "text": [
      "0.8200836820083682\n",
      "[[11  1  0  0  0  0  0  0]\n",
      " [ 6 49  5  7  0  1  0  0]\n",
      " [ 0  2  6  9  0  2  0  0]\n",
      " [ 0  5  0 63  0  0  0  0]\n",
      " [ 0  1  0  0  0  1  0  0]\n",
      " [ 0  1  1  0  0  3  0  0]\n",
      " [ 0  1  0  0  0  0 29  0]\n",
      " [ 0  0  0  0  0  0  0 35]]\n",
      "              precision    recall  f1-score   support\n",
      "\n",
      "           0       0.65      0.92      0.76        12\n",
      "           1       0.82      0.72      0.77        68\n",
      "           2       0.50      0.32      0.39        19\n",
      "           3       0.80      0.93      0.86        68\n",
      "           4       0.00      0.00      0.00         2\n",
      "           5       0.43      0.60      0.50         5\n",
      "           6       1.00      0.97      0.98        30\n",
      "           7       1.00      1.00      1.00        35\n",
      "\n",
      "    accuracy                           0.82       239\n",
      "   macro avg       0.65      0.68      0.66       239\n",
      "weighted avg       0.81      0.82      0.81       239\n",
      "\n",
      "Training accuracy:: 0.9938080495356038\n",
      "Test accuracy:: 0.8200836820083682\n"
     ]
    },
    {
     "name": "stderr",
     "output_type": "stream",
     "text": [
      "E:\\Anaconda\\lib\\site-packages\\sklearn\\metrics\\_classification.py:1245: UndefinedMetricWarning: Precision and F-score are ill-defined and being set to 0.0 in labels with no predicted samples. Use `zero_division` parameter to control this behavior.\n",
      "  _warn_prf(average, modifier, msg_start, len(result))\n",
      "E:\\Anaconda\\lib\\site-packages\\sklearn\\metrics\\_classification.py:1245: UndefinedMetricWarning: Precision and F-score are ill-defined and being set to 0.0 in labels with no predicted samples. Use `zero_division` parameter to control this behavior.\n",
      "  _warn_prf(average, modifier, msg_start, len(result))\n",
      "E:\\Anaconda\\lib\\site-packages\\sklearn\\metrics\\_classification.py:1245: UndefinedMetricWarning: Precision and F-score are ill-defined and being set to 0.0 in labels with no predicted samples. Use `zero_division` parameter to control this behavior.\n",
      "  _warn_prf(average, modifier, msg_start, len(result))\n"
     ]
    }
   ],
   "source": [
    "bgc.fit(x_train,y_train)\n",
    "predicted_bgc=bgc.predict(x_test)\n",
    "print(accuracy_score(y_test,predicted_bgc))\n",
    "print(confusion_matrix(y_test,predicted_bgc))\n",
    "print(classification_report(y_test,predicted_bgc))\n",
    "print(\"Training accuracy::\",bgc.score(x_train,y_train))\n",
    "print(\"Test accuracy::\",bgc.score(x_test,y_test))"
   ]
  },
  {
   "cell_type": "markdown",
   "id": "a24281aa",
   "metadata": {},
   "source": [
    "# 3. Gradient Boosting classifier\n",
    "\n"
   ]
  },
  {
   "cell_type": "code",
   "execution_count": 132,
   "id": "e2db209f",
   "metadata": {},
   "outputs": [
    {
     "name": "stderr",
     "output_type": "stream",
     "text": [
      "E:\\Anaconda\\lib\\site-packages\\sklearn\\model_selection\\_split.py:666: UserWarning: The least populated class in y has only 9 members, which is less than n_splits=10.\n",
      "  warnings.warn((\"The least populated class in y has only %d\"\n"
     ]
    },
    {
     "name": "stdout",
     "output_type": "stream",
     "text": [
      "cross validation score for Gradient Boosting Classifier: 0.8530643513789581\n"
     ]
    }
   ],
   "source": [
    "grbc=GradientBoostingClassifier()\n",
    "grbc_score=cross_val_score(grbc,x,y,cv=10,scoring='accuracy')\n",
    "print(\"cross validation score for Gradient Boosting Classifier:\",np.mean(grbc_score))"
   ]
  },
  {
   "cell_type": "code",
   "execution_count": 133,
   "id": "0909c065",
   "metadata": {},
   "outputs": [
    {
     "name": "stdout",
     "output_type": "stream",
     "text": [
      "0.8368200836820083\n",
      "[[12  0  0  0  0  0  0  0]\n",
      " [ 5 51  2  7  2  1  0  0]\n",
      " [ 0  5  9  3  0  2  0  0]\n",
      " [ 0  5  1 62  0  0  0  0]\n",
      " [ 0  1  0  0  0  1  0  0]\n",
      " [ 0  1  3  0  0  1  0  0]\n",
      " [ 0  0  0  0  0  0 30  0]\n",
      " [ 0  0  0  0  0  0  0 35]]\n",
      "              precision    recall  f1-score   support\n",
      "\n",
      "           0       0.71      1.00      0.83        12\n",
      "           1       0.81      0.75      0.78        68\n",
      "           2       0.60      0.47      0.53        19\n",
      "           3       0.86      0.91      0.89        68\n",
      "           4       0.00      0.00      0.00         2\n",
      "           5       0.20      0.20      0.20         5\n",
      "           6       1.00      1.00      1.00        30\n",
      "           7       1.00      1.00      1.00        35\n",
      "\n",
      "    accuracy                           0.84       239\n",
      "   macro avg       0.65      0.67      0.65       239\n",
      "weighted avg       0.83      0.84      0.83       239\n",
      "\n",
      "Training accuracy:: 1.0\n",
      "Test accuracy:: 0.8368200836820083\n"
     ]
    }
   ],
   "source": [
    "grbc.fit(x_train,y_train)\n",
    "predicted_grbc=grbc.predict(x_test)\n",
    "print(accuracy_score(y_test,predicted_grbc))\n",
    "print(confusion_matrix(y_test,predicted_grbc))\n",
    "print(classification_report(y_test,predicted_grbc))\n",
    "print(\"Training accuracy::\",grbc.score(x_train,y_train))\n",
    "print(\"Test accuracy::\",grbc.score(x_test,y_test))"
   ]
  },
  {
   "cell_type": "markdown",
   "id": "d0564fd8",
   "metadata": {},
   "source": [
    "# HYPER PARAMETER TUNING:"
   ]
  },
  {
   "cell_type": "code",
   "execution_count": 134,
   "id": "c212c431",
   "metadata": {},
   "outputs": [],
   "source": [
    "rfc=RandomForestClassifier()\n",
    "param_grid={\n",
    "    'criterion' : [\"gini\", \"entropy\"],\n",
    "    'n_estimators':[200,50],\n",
    "    'min_samples_split':[2,3],\n",
    "     'random_state':[10]              \n",
    "}"
   ]
  },
  {
   "cell_type": "code",
   "execution_count": 135,
   "id": "8125b7fd",
   "metadata": {},
   "outputs": [],
   "source": [
    "rfc_grid=GridSearchCV(RandomForestClassifier(),param_grid,cv=4,scoring='accuracy',n_jobs=-1,verbose=2)"
   ]
  },
  {
   "cell_type": "code",
   "execution_count": 136,
   "id": "4a7d9349",
   "metadata": {},
   "outputs": [
    {
     "name": "stdout",
     "output_type": "stream",
     "text": [
      "Fitting 4 folds for each of 8 candidates, totalling 32 fits\n",
      "Accuracy after parameter tuning:: 0.8284518828451883\n"
     ]
    }
   ],
   "source": [
    "rfc_grid.fit(x_train,y_train)\n",
    "rfc_pred=rfc_grid.best_estimator_.predict(x_test)\n",
    "print(\"Accuracy after parameter tuning::\",accuracy_score(y_test,rfc_pred))"
   ]
  },
  {
   "cell_type": "code",
   "execution_count": 137,
   "id": "cf50ecd3",
   "metadata": {},
   "outputs": [
    {
     "data": {
      "text/plain": [
       "{'criterion': 'gini',\n",
       " 'min_samples_split': 2,\n",
       " 'n_estimators': 200,\n",
       " 'random_state': 10}"
      ]
     },
     "execution_count": 137,
     "metadata": {},
     "output_type": "execute_result"
    }
   ],
   "source": [
    "rfc_grid.best_params_"
   ]
  },
  {
   "cell_type": "markdown",
   "id": "be6f8ff9",
   "metadata": {},
   "source": [
    "# Model training with best parameters"
   ]
  },
  {
   "cell_type": "code",
   "execution_count": 138,
   "id": "bda30564",
   "metadata": {},
   "outputs": [],
   "source": [
    "best_param={\n",
    "    'criterion' : ['gini'],\n",
    "    'n_estimators':[200],\n",
    "    'min_samples_split':[2],\n",
    "     'random_state':[10]    }"
   ]
  },
  {
   "cell_type": "code",
   "execution_count": 139,
   "id": "92a78dde",
   "metadata": {},
   "outputs": [],
   "source": [
    "best_rfc_grid=GridSearchCV(RandomForestClassifier(),best_param,cv=4,scoring='accuracy',n_jobs=-1,verbose=2)"
   ]
  },
  {
   "cell_type": "code",
   "execution_count": 140,
   "id": "f4f02cec",
   "metadata": {},
   "outputs": [
    {
     "name": "stdout",
     "output_type": "stream",
     "text": [
      "Fitting 4 folds for each of 1 candidates, totalling 4 fits\n",
      "Accuracy after parameter tuning:: 0.8284518828451883\n"
     ]
    }
   ],
   "source": [
    "best_rfc_grid.fit(x_train,y_train)\n",
    "best_rfc_pred=best_rfc_grid.best_estimator_.predict(x_test)\n",
    "print(\"Accuracy after parameter tuning::\",accuracy_score(y_test,best_rfc_pred))"
   ]
  },
  {
   "cell_type": "markdown",
   "id": "81492a26",
   "metadata": {},
   "source": [
    "# Report of RandomForestClassifier"
   ]
  },
  {
   "cell_type": "code",
   "execution_count": 141,
   "id": "70db9a28",
   "metadata": {},
   "outputs": [
    {
     "name": "stdout",
     "output_type": "stream",
     "text": [
      "CLASSIFICATION REPORT::\n",
      "               precision    recall  f1-score   support\n",
      "\n",
      "           0       0.61      0.92      0.73        12\n",
      "           1       0.84      0.75      0.79        68\n",
      "           2       0.80      0.21      0.33        19\n",
      "           3       0.78      0.96      0.86        68\n",
      "           4       0.00      0.00      0.00         2\n",
      "           5       0.29      0.40      0.33         5\n",
      "           6       1.00      1.00      1.00        30\n",
      "           7       1.00      1.00      1.00        35\n",
      "\n",
      "    accuracy                           0.83       239\n",
      "   macro avg       0.66      0.65      0.63       239\n",
      "weighted avg       0.83      0.83      0.81       239\n",
      "\n"
     ]
    },
    {
     "name": "stderr",
     "output_type": "stream",
     "text": [
      "E:\\Anaconda\\lib\\site-packages\\sklearn\\metrics\\_classification.py:1245: UndefinedMetricWarning: Precision and F-score are ill-defined and being set to 0.0 in labels with no predicted samples. Use `zero_division` parameter to control this behavior.\n",
      "  _warn_prf(average, modifier, msg_start, len(result))\n",
      "E:\\Anaconda\\lib\\site-packages\\sklearn\\metrics\\_classification.py:1245: UndefinedMetricWarning: Precision and F-score are ill-defined and being set to 0.0 in labels with no predicted samples. Use `zero_division` parameter to control this behavior.\n",
      "  _warn_prf(average, modifier, msg_start, len(result))\n",
      "E:\\Anaconda\\lib\\site-packages\\sklearn\\metrics\\_classification.py:1245: UndefinedMetricWarning: Precision and F-score are ill-defined and being set to 0.0 in labels with no predicted samples. Use `zero_division` parameter to control this behavior.\n",
      "  _warn_prf(average, modifier, msg_start, len(result))\n"
     ]
    }
   ],
   "source": [
    "print(\"CLASSIFICATION REPORT::\\n\",classification_report(y_test,best_rfc_pred))"
   ]
  },
  {
   "cell_type": "code",
   "execution_count": 142,
   "id": "bf9fbf62",
   "metadata": {},
   "outputs": [
    {
     "name": "stderr",
     "output_type": "stream",
     "text": [
      "E:\\Anaconda\\lib\\site-packages\\sklearn\\metrics\\_classification.py:1245: UndefinedMetricWarning: Precision and F-score are ill-defined and being set to 0.0 in labels with no predicted samples. Use `zero_division` parameter to control this behavior.\n",
      "  _warn_prf(average, modifier, msg_start, len(result))\n",
      "E:\\Anaconda\\lib\\site-packages\\sklearn\\metrics\\_classification.py:1245: UndefinedMetricWarning: Precision and F-score are ill-defined and being set to 0.0 in labels with no predicted samples. Use `zero_division` parameter to control this behavior.\n",
      "  _warn_prf(average, modifier, msg_start, len(result))\n",
      "E:\\Anaconda\\lib\\site-packages\\sklearn\\metrics\\_classification.py:1245: UndefinedMetricWarning: Precision and F-score are ill-defined and being set to 0.0 in labels with no predicted samples. Use `zero_division` parameter to control this behavior.\n",
      "  _warn_prf(average, modifier, msg_start, len(result))\n"
     ]
    },
    {
     "data": {
      "text/plain": [
       "<AxesSubplot:>"
      ]
     },
     "execution_count": 142,
     "metadata": {},
     "output_type": "execute_result"
    },
    {
     "data": {
      "image/png": "[encoded data removed]",
      "text/plain": [
       "<Figure size 432x288 with 2 Axes>"
      ]
     },
     "metadata": {
      "needs_background": "light"
     },
     "output_type": "display_data"
    }
   ],
   "source": [
    "clsf_repo = classification_report(y_test,best_rfc_pred,output_dict=True)\n",
    "sns.heatmap(pd.DataFrame(clsf_repo).T, annot=True)"
   ]
  },
  {
   "cell_type": "code",
   "execution_count": 145,
   "id": "bd2af854",
   "metadata": {},
   "outputs": [
    {
     "name": "stdout",
     "output_type": "stream",
     "text": [
      "Fitting 4 folds for each of 1 candidates, totalling 4 fits\n",
      "One-vs-One ROC AUC scores:\n",
      "0.936752 (macro),\n",
      "0.950476 (weighted by prevalence)\n",
      "========================================\n",
      "One-vs-Rest ROC AUC scores:\n",
      "0.951656 (macro),\n",
      "0.971103 (weighted by prevalence)\n"
     ]
    }
   ],
   "source": [
    "y_prob = best_rfc_grid.fit(x_train,y_train).predict_proba(x_test)\n",
    "\n",
    "macro_roc_auc_ovo = roc_auc_score(y_test, y_prob, multi_class=\"ovo\", average=\"macro\")\n",
    "weighted_roc_auc_ovo = roc_auc_score(y_test, y_prob, multi_class=\"ovo\", average=\"weighted\")\n",
    "macro_roc_auc_ovr = roc_auc_score(y_test, y_prob, multi_class=\"ovr\", average=\"macro\")\n",
    "weighted_roc_auc_ovr = roc_auc_score(y_test, y_prob, multi_class=\"ovr\", average=\"weighted\")\n",
    "print(\"One-vs-One ROC AUC scores:\\n{:.6f} (macro),\\n{:.6f} \"\n",
    "      \"(weighted by prevalence)\"\n",
    "      .format(macro_roc_auc_ovo, weighted_roc_auc_ovo))\n",
    "print(\"=\"*40)\n",
    "print(\"One-vs-Rest ROC AUC scores:\\n{:.6f} (macro),\\n{:.6f} \"\n",
    "      \"(weighted by prevalence)\"\n",
    "      .format(macro_roc_auc_ovr, weighted_roc_auc_ovr))"
   ]
  },
  {
   "cell_type": "markdown",
   "id": "19eef14f",
   "metadata": {},
   "source": [
    "# Saving Model:"
   ]
  },
  {
   "cell_type": "code",
   "execution_count": 146,
   "id": "21b77f14",
   "metadata": {},
   "outputs": [
    {
     "data": {
      "text/plain": [
       "['Global Power Plant Classification.obj']"
      ]
     },
     "execution_count": 146,
     "metadata": {},
     "output_type": "execute_result"
    }
   ],
   "source": [
    "import joblib\n",
    "joblib.dump(best_rfc_grid.best_estimator_,'Global Power Plant Classification.obj')"
   ]
  },
  {
   "cell_type": "code",
   "execution_count": null,
   "id": "40be081d",
   "metadata": {},
   "outputs": [],
   "source": []
  }
 ],
 "metadata": {
  "kernelspec": {
   "display_name": "Python 3",
   "language": "python",
   "name": "python3"
  },
  "language_info": {
   "codemirror_mode": {
    "name": "ipython",
    "version": 3
   },
   "file_extension": ".py",
   "mimetype": "text/x-python",
   "name": "python",
   "nbconvert_exporter": "python",
   "pygments_lexer": "ipython3",
   "version": "3.8.8"
  }
 },
 "nbformat": 4,
 "nbformat_minor": 5
}

